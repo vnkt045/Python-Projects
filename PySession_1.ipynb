{
 "cells": [
  {
   "cell_type": "code",
   "execution_count": 10,
   "metadata": {},
   "outputs": [
    {
     "name": "stdout",
     "output_type": "stream",
     "text": [
      "0.30223951588249964\n",
      "4\n",
      "55.01156193373724\n"
     ]
    }
   ],
   "source": [
    "import random as rn\n",
    "print(rn.random())\n",
    "print(rn.randrange(1,100))\n",
    "print(rn.uniform(50,100))"
   ]
  },
  {
   "cell_type": "code",
   "execution_count": 20,
   "metadata": {},
   "outputs": [
    {
     "name": "stdout",
     "output_type": "stream",
     "text": [
      "25\n",
      "Total Number of Spaces\t\t:  4\n",
      "Total Number of Characters\t:  21\n"
     ]
    }
   ],
   "source": [
    "mystring=\"This is my sample string.\"\n",
    "print(len(mystring))\n",
    "count=0\n",
    "for c in mystring:\n",
    "    if(c==' '):\n",
    "        count+=1\n",
    "\n",
    "print('Total Number of Spaces\\t\\t: ',count)\n",
    "print('Total Number of Characters\\t: ',len(mystring)-count)"
   ]
  },
  {
   "cell_type": "code",
   "execution_count": 33,
   "metadata": {},
   "outputs": [
    {
     "name": "stdout",
     "output_type": "stream",
     "text": [
      "asdfghjk\n",
      "8\n",
      "1 statement  fghjk\n",
      "2 statement  dfghjk\n",
      "3 statement  asdfghjk\n",
      "4 statement  asdfghjk\n",
      "asdfghjk\n",
      "hello World\n",
      "python\n",
      "['PYTHON', 'IS', 'A', 'PROGRAMMING', 'LANGUAGE.']\n",
      "Shubh Diwali\n"
     ]
    }
   ],
   "source": [
    "#slicing\n",
    "my_string=input()\n",
    "print(len(my_string))\n",
    "\n",
    "#print(my_string)\n",
    "#print(my_string[-3])\n",
    "#[inclusive:exclusive]\n",
    "print('1 statement ',my_string[3:len(my_string)])\n",
    "print('2 statement ',my_string[2:])\n",
    "print('3 statement ',my_string[:])\n",
    "print('4 statement ',my_string[:])\n",
    "\n",
    "#print(my_string[100]) it is logically wrong code hence converted into comment for reference\n",
    "len(my_string)\n",
    "\n",
    "#del my_string\n",
    "print(my_string)\n",
    "str1='hello'\n",
    "str2='World'\n",
    "str1=str1+\" \"+str2\n",
    "print(str1)\n",
    "print(\"PythOn\".lower())\n",
    "string=\"Python,is,a,programming,language.\"\n",
    "print(string.upper().split(sep=\",\"))\n",
    "print('Happy Diwali'.replace(\"Happy\",\"Shubh\"))"
   ]
  },
  {
   "cell_type": "code",
   "execution_count": 35,
   "metadata": {},
   "outputs": [
    {
     "name": "stdout",
     "output_type": "stream",
     "text": [
      "a[2] =  3\n",
      "a[0:3] =  [1, 2, 3]\n",
      "a[5: ] =  [6, 7, 8]\n"
     ]
    }
   ],
   "source": [
    "#using sliceing operator\n",
    "a=[1,2,3,4,5,6,7,8]\n",
    "print(\"a[2] = \",a[2])\n",
    "print(\"a[0:3] = \",a[0:3])\n",
    "print(\"a[5: ] = \",a[5:])"
   ]
  },
  {
   "cell_type": "code",
   "execution_count": 41,
   "metadata": {},
   "outputs": [
    {
     "name": "stdout",
     "output_type": "stream",
     "text": [
      "[0, 1, 2, 3, 4, 5, 6, 7, 8, 9]\n"
     ]
    }
   ],
   "source": [
    "x=list(range(0,10))\n",
    "print(x)"
   ]
  },
  {
   "cell_type": "code",
   "execution_count": 44,
   "metadata": {},
   "outputs": [
    {
     "name": "stdout",
     "output_type": "stream",
     "text": [
      "spam\n",
      "raj\n",
      "j\n"
     ]
    }
   ],
   "source": [
    "b=['spam',2.0,5,[10,\"raj\"]] #nested List\n",
    "print(b[0])\n",
    "print(b[3][1])\n",
    "print(b[3][1][2])"
   ]
  },
  {
   "cell_type": "code",
   "execution_count": 45,
   "metadata": {},
   "outputs": [
    {
     "name": "stdout",
     "output_type": "stream",
     "text": [
      "[1, 2, 3, 4, 5, 6, 7, 8, 9]\n",
      "[1, 2, 3, 55.0, 5, 6, 7, 8, 9]\n"
     ]
    }
   ],
   "source": [
    "#lists are mutable\n",
    "a=[1,2,3,4,5,6,7,8,9]\n",
    "print(a)\n",
    "a[3]=55.0\n",
    "print(a)"
   ]
  },
  {
   "cell_type": "code",
   "execution_count": 56,
   "metadata": {},
   "outputs": [
    {
     "name": "stdout",
     "output_type": "stream",
     "text": [
      "[948, 707, 854, 601, 188, 325, 335, 996, 192, 14]\n"
     ]
    }
   ],
   "source": [
    "import random as rn\n",
    "\n",
    "my_list=[]\n",
    "for x in range(10):\n",
    "    my_list.append(rn.randrange(1,1000))\n",
    "    #print(x)\n",
    "\n",
    "print(my_list)\n"
   ]
  },
  {
   "cell_type": "code",
   "execution_count": 59,
   "metadata": {},
   "outputs": [
    {
     "name": "stdout",
     "output_type": "stream",
     "text": [
      "enter an Element: a\n",
      "enter an Element: a\n",
      "enter an Element: a\n",
      "enter an Element: a\n",
      "enter an Element: a\n",
      "['a', 'a', 'a', 'a', 'a']\n"
     ]
    }
   ],
   "source": [
    "#appending a single element\n",
    "my_list=[]\n",
    "i=1\n",
    "\n",
    "while(i<=5):\n",
    "    value=input(\"enter an Element: \")\n",
    "    my_list.append(value)\n",
    "    i+=1\n",
    "print(my_list)"
   ]
  },
  {
   "cell_type": "code",
   "execution_count": 61,
   "metadata": {},
   "outputs": [
    {
     "name": "stdout",
     "output_type": "stream",
     "text": [
      "[1, 3, 4, 5, 7, 18, 69, 89]\n"
     ]
    }
   ],
   "source": [
    "my_list=[1,4,3,89]\n",
    "my_new_list=[5,69,7,18]\n",
    "my_list.extend(my_new_list)\n",
    "my_list.sort()\n",
    "print(my_list)"
   ]
  },
  {
   "cell_type": "code",
   "execution_count": 63,
   "metadata": {},
   "outputs": [
    {
     "name": "stdout",
     "output_type": "stream",
     "text": [
      "['a', 'd', 'e', 'b', 'c', 'd', 'e', 'f']\n",
      "1\n"
     ]
    }
   ],
   "source": [
    "list1=['a','b','c','d','e','f']\n",
    "list1.insert(1,\"d\")\n",
    "list1.insert(2,\"e\")\n",
    "print(list1)\n",
    "print(list1.index(\"d\"))"
   ]
  },
  {
   "cell_type": "code",
   "execution_count": 64,
   "metadata": {},
   "outputs": [
    {
     "name": "stdout",
     "output_type": "stream",
     "text": [
      "['f', 'e', 'd', 'c', 'b', 'e', 'd', 'a']\n"
     ]
    }
   ],
   "source": [
    "list1.reverse()\n",
    "print(list1)"
   ]
  }
 ],
 "metadata": {
  "kernelspec": {
   "display_name": "Python 3",
   "language": "python",
   "name": "python3"
  },
  "language_info": {
   "codemirror_mode": {
    "name": "ipython",
    "version": 3
   },
   "file_extension": ".py",
   "mimetype": "text/x-python",
   "name": "python",
   "nbconvert_exporter": "python",
   "pygments_lexer": "ipython3",
   "version": "3.7.3"
  }
 },
 "nbformat": 4,
 "nbformat_minor": 2
}
