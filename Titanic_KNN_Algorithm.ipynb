{
 "cells": [
  {
   "cell_type": "code",
   "execution_count": 2,
   "metadata": {},
   "outputs": [
    {
     "name": "stdout",
     "output_type": "stream",
     "text": [
      "(891, 11)\n",
      "(21, 11)\n"
     ]
    }
   ],
   "source": [
    "import pandas as pd\n",
    "import numpy as np\n",
    "\n",
    "#read the training data and testing data\n",
    "\n",
    "training_data=pd.read_excel('Titanic_Survival_train.xls',index_col=0,header=0)\n",
    "testing_data=pd.read_excel('Titanic_Survival_test.xls',index_col=0,header=0)\n",
    "print(training_data.shape)\n",
    "print(testing_data.shape)"
   ]
  },
  {
   "cell_type": "code",
   "execution_count": 3,
   "metadata": {},
   "outputs": [
    {
     "name": "stdout",
     "output_type": "stream",
     "text": [
      "(891, 5)\n",
      "(21, 5)\n"
     ]
    }
   ],
   "source": [
    "#feature selection\n",
    "training_data=training_data[['Name','Pclass','Sex','Age','Survived']]\n",
    "testing_data=testing_data[['Name','Pclass','Sex','Age','Survived']]\n",
    "print(training_data.shape)\n",
    "print(testing_data.shape)"
   ]
  },
  {
   "cell_type": "code",
   "execution_count": 4,
   "metadata": {},
   "outputs": [
    {
     "name": "stdout",
     "output_type": "stream",
     "text": [
      "Name          0\n",
      "Pclass        0\n",
      "Sex           0\n",
      "Age         177\n",
      "Survived      0\n",
      "dtype: int64\n",
      "Name        0\n",
      "Pclass      0\n",
      "Sex         0\n",
      "Age         2\n",
      "Survived    0\n",
      "dtype: int64\n"
     ]
    }
   ],
   "source": [
    "#finding the missing values\n",
    "print(training_data.isnull().sum())\n",
    "print(testing_data.isnull().sum())"
   ]
  },
  {
   "cell_type": "code",
   "execution_count": 5,
   "metadata": {},
   "outputs": [
    {
     "name": "stdout",
     "output_type": "stream",
     "text": [
      "Name        0\n",
      "Pclass      0\n",
      "Sex         0\n",
      "Age         0\n",
      "Survived    0\n",
      "dtype: int64\n",
      "Name        0\n",
      "Pclass      0\n",
      "Sex         0\n",
      "Age         0\n",
      "Survived    0\n",
      "dtype: int64\n"
     ]
    }
   ],
   "source": [
    "#imputing numerical mssing data with mean value\n",
    "training_data[\"Age\"].fillna(int(training_data[\"Age\"].mean()),inplace=True)\n",
    "print(training_data.isnull().sum())\n",
    "\n",
    "#imputing numerical missing data with the mean value\n",
    "testing_data[\"Age\"].fillna(int(training_data[\"Age\"].mean()),inplace=True)\n",
    "print(training_data.isnull().sum())\n"
   ]
  },
  {
   "cell_type": "code",
   "execution_count": 6,
   "metadata": {},
   "outputs": [],
   "source": [
    "#transforming categorical data into numerical\n",
    "from sklearn import preprocessing\n",
    "colname=['Sex']\n",
    "\n",
    "le=preprocessing.LabelEncoder()\n",
    "\n",
    "for x in colname:\n",
    "    training_data[x]=le.fit_transform(training_data[x])\n",
    "    testing_data[x]=le.fit_transform(testing_data[x])"
   ]
  },
  {
   "cell_type": "code",
   "execution_count": 7,
   "metadata": {},
   "outputs": [
    {
     "name": "stdout",
     "output_type": "stream",
     "text": [
      "                                                          Name  Pclass  Sex  \\\n",
      "PassengerId                                                                   \n",
      "1                                      Braund, Mr. Owen Harris       3    1   \n",
      "2            Cumings, Mrs. John Bradley (Florence Briggs Th...       1    0   \n",
      "3                                       Heikkinen, Miss. Laina       3    0   \n",
      "4                 Futrelle, Mrs. Jacques Heath (Lily May Peel)       1    0   \n",
      "5                                     Allen, Mr. William Henry       3    1   \n",
      "\n",
      "              Age  Survived  \n",
      "PassengerId                  \n",
      "1            22.0         0  \n",
      "2            38.0         1  \n",
      "3            26.0         1  \n",
      "4            35.0         1  \n",
      "5            35.0         0  \n",
      "                                                         Name  Pclass  Sex  \\\n",
      "PassengerId                                                                  \n",
      "871                                         Balkic, Mr. Cerin       3    1   \n",
      "872          Beckwith, Mrs. Richard Leonard (Sallie Monypeny)       1    0   \n",
      "873                                  Carlsson, Mr. Frans Olof       1    1   \n",
      "874                               Vander Cruyssen, Mr. Victor       3    1   \n",
      "875                     Abelson, Mrs. Samuel (Hannah Wizosky)       2    0   \n",
      "\n",
      "              Age  Survived  \n",
      "PassengerId                  \n",
      "871          26.0         0  \n",
      "872          47.0         1  \n",
      "873          33.0         0  \n",
      "874          47.0         0  \n",
      "875          28.0         1  \n"
     ]
    }
   ],
   "source": [
    "print(training_data.head())\n",
    "print(testing_data.head())"
   ]
  },
  {
   "cell_type": "code",
   "execution_count": 18,
   "metadata": {},
   "outputs": [],
   "source": [
    "X_train=training_data.values[:,1:-1]\n",
    "Y_train=training_data.values[:,-1]\n",
    "Y_train=Y_train.astype(int)\n",
    "\n",
    "X_test=testing_data.values[:,1:-1]\n",
    "Y_test=testing_data.values[:,-1]\n",
    "Y_test=Y_test.astype(int)"
   ]
  },
  {
   "cell_type": "code",
   "execution_count": 19,
   "metadata": {},
   "outputs": [],
   "source": [
    "#when we have a training and a testing data seperate we lawyas fit the scaler object on only \n",
    "#the training data and the same scales are used to to transform both training and testing data.\n",
    "\n",
    "from sklearn.preprocessing import StandardScaler\n",
    "scaler=StandardScaler()\n",
    "scaler.fit(X_train)\n",
    "\n",
    "X_train=scaler.transform(X_train)\n",
    "X_test=scaler.transform(X_test)"
   ]
  },
  {
   "cell_type": "code",
   "execution_count": 22,
   "metadata": {},
   "outputs": [
    {
     "name": "stdout",
     "output_type": "stream",
     "text": [
      "[(0, 0), (1, 1), (0, 0), (0, 0), (1, 1), (1, 0), (0, 0), (0, 0), (0, 0), (1, 1), (1, 1), (0, 0), (0, 0), (0, 0), (0, 0), (0, 0), (0, 0), (1, 1), (0, 1), (1, 0), (0, 0)]\n"
     ]
    }
   ],
   "source": [
    "#predicting using the KNeighbours_classifiers\n",
    "from sklearn.neighbors import KNeighborsClassifier\n",
    "#model_KNN=KNeighborsClassifier(n_neighbors=int(np.sqrt(len(X_train))), metric='euclidean')\n",
    "model_KNN=KNeighborsClassifier(n_neighbors=int(np.sqrt(len(X_train))), metric='manhattan')\n",
    "#model_KNN=KNeighborsClassifier(n_neighbors=int(np.sqrt(len(X_train))), metric='minkowski')\n",
    "#model_KNN=KNeighborsClassifier(n_neighbors=5, metric='euclidean')\n",
    "#fit the model on the data and predict the values\n",
    "model_KNN.fit(X_train,Y_train)\n",
    "\n",
    "\n",
    "Y_pred=model_KNN.predict(X_test)\n",
    "print(list(zip(Y_test,Y_pred)))"
   ]
  },
  {
   "cell_type": "code",
   "execution_count": 21,
   "metadata": {},
   "outputs": [
    {
     "name": "stdout",
     "output_type": "stream",
     "text": [
      "[[13  1]\n",
      " [ 2  5]]\n",
      "\n",
      "Classification Report\n",
      "===================\n",
      "              precision    recall  f1-score   support\n",
      "\n",
      "           0       0.87      0.93      0.90        14\n",
      "           1       0.83      0.71      0.77         7\n",
      "\n",
      "    accuracy                           0.86        21\n",
      "   macro avg       0.85      0.82      0.83        21\n",
      "weighted avg       0.86      0.86      0.85        21\n",
      "\n",
      "Accuracy of the model:  0.8571428571428571\n"
     ]
    }
   ],
   "source": [
    "from sklearn.metrics import confusion_matrix,accuracy_score,classification_report\n",
    "\n",
    "cfm=confusion_matrix(Y_test,Y_pred)\n",
    "print(cfm)\n",
    "\n",
    "print('\\nClassification Report\\n===================')\n",
    "\n",
    "print(classification_report(Y_test,Y_pred))\n",
    "\n",
    "accuracy_score=accuracy_score(Y_test,Y_pred)\n",
    "print(\"Accuracy of the model: \",accuracy_score)"
   ]
  },
  {
   "cell_type": "code",
   "execution_count": 12,
   "metadata": {},
   "outputs": [
    {
     "name": "stdout",
     "output_type": "stream",
     "text": [
      "Accuracy is  0.8571428571428571\n",
      "Accuracy is  1.0\n",
      "Accuracy is  0.9523809523809523\n",
      "Accuracy is  1.0\n",
      "Accuracy is  0.8571428571428571\n",
      "Accuracy is  0.9523809523809523\n",
      "Accuracy is  0.9047619047619048\n",
      "Accuracy is  0.9047619047619048\n",
      "Accuracy is  0.8571428571428571\n",
      "Accuracy is  0.9523809523809523\n",
      "Accuracy is  0.9047619047619048\n",
      "Accuracy is  0.9523809523809523\n",
      "Accuracy is  0.9047619047619048\n",
      "Accuracy is  0.9523809523809523\n",
      "Accuracy is  0.9047619047619048\n"
     ]
    }
   ],
   "source": [
    "from sklearn.metrics import accuracy_score\n",
    "\n",
    "for K in range(1,16):\n",
    "    #model_KNN=KNeighborsClassifier(K,metric=\"euclidean\")\n",
    "    model_KNN=KNeighborsClassifier(K,metric=\"manhattan\")\n",
    "    #model_KNN=KNeighborsClassifier(K,metric=\"minkowski\")\n",
    "    model_KNN.fit(X_train,Y_train)\n",
    "    Y_pred=model_KNN.predict(X_test)\n",
    "    print(\"Accuracy is \", accuracy_score(Y_test,Y_pred))"
   ]
  },
  {
   "cell_type": "code",
   "execution_count": 13,
   "metadata": {},
   "outputs": [
    {
     "data": {
      "text/html": [
       "<div>\n",
       "<style scoped>\n",
       "    .dataframe tbody tr th:only-of-type {\n",
       "        vertical-align: middle;\n",
       "    }\n",
       "\n",
       "    .dataframe tbody tr th {\n",
       "        vertical-align: top;\n",
       "    }\n",
       "\n",
       "    .dataframe thead th {\n",
       "        text-align: right;\n",
       "    }\n",
       "</style>\n",
       "<table border=\"1\" class=\"dataframe\">\n",
       "  <thead>\n",
       "    <tr style=\"text-align: right;\">\n",
       "      <th></th>\n",
       "      <th>Unnamed: 0</th>\n",
       "      <th>TV</th>\n",
       "      <th>radio</th>\n",
       "      <th>newspaper</th>\n",
       "      <th>sales</th>\n",
       "    </tr>\n",
       "  </thead>\n",
       "  <tbody>\n",
       "    <tr>\n",
       "      <th>0</th>\n",
       "      <td>1</td>\n",
       "      <td>230.1</td>\n",
       "      <td>37.8</td>\n",
       "      <td>69.2</td>\n",
       "      <td>22.1</td>\n",
       "    </tr>\n",
       "    <tr>\n",
       "      <th>1</th>\n",
       "      <td>2</td>\n",
       "      <td>44.5</td>\n",
       "      <td>39.3</td>\n",
       "      <td>45.1</td>\n",
       "      <td>10.4</td>\n",
       "    </tr>\n",
       "    <tr>\n",
       "      <th>2</th>\n",
       "      <td>3</td>\n",
       "      <td>17.2</td>\n",
       "      <td>45.9</td>\n",
       "      <td>69.3</td>\n",
       "      <td>9.3</td>\n",
       "    </tr>\n",
       "    <tr>\n",
       "      <th>3</th>\n",
       "      <td>4</td>\n",
       "      <td>151.5</td>\n",
       "      <td>41.3</td>\n",
       "      <td>58.5</td>\n",
       "      <td>18.5</td>\n",
       "    </tr>\n",
       "    <tr>\n",
       "      <th>4</th>\n",
       "      <td>5</td>\n",
       "      <td>180.8</td>\n",
       "      <td>10.8</td>\n",
       "      <td>58.4</td>\n",
       "      <td>12.9</td>\n",
       "    </tr>\n",
       "  </tbody>\n",
       "</table>\n",
       "</div>"
      ],
      "text/plain": [
       "   Unnamed: 0     TV  radio  newspaper  sales\n",
       "0           1  230.1   37.8       69.2   22.1\n",
       "1           2   44.5   39.3       45.1   10.4\n",
       "2           3   17.2   45.9       69.3    9.3\n",
       "3           4  151.5   41.3       58.5   18.5\n",
       "4           5  180.8   10.8       58.4   12.9"
      ]
     },
     "execution_count": 13,
     "metadata": {},
     "output_type": "execute_result"
    }
   ],
   "source": [
    "#read data into Dataframe\n",
    "data=pd.read_csv(r'E:\\Youtube Downloads\\Advertising.csv')\n",
    "data.head()"
   ]
  },
  {
   "cell_type": "code",
   "execution_count": 14,
   "metadata": {},
   "outputs": [],
   "source": [
    "#create X and Y\n",
    "feature_cols=['TV','radio','newspaper']\n",
    "X=data[feature_cols]\n",
    "Y=data['sales']"
   ]
  },
  {
   "cell_type": "code",
   "execution_count": 15,
   "metadata": {},
   "outputs": [],
   "source": [
    "from sklearn.model_selection import train_test_split\n",
    "\n",
    "#split the data into test and train\n",
    "X_train,X_test,Y_train,Y_test=train_test_split(X,Y,test_size=0.2,random_state=10)"
   ]
  },
  {
   "cell_type": "code",
   "execution_count": 16,
   "metadata": {},
   "outputs": [],
   "source": [
    "#predicting using the KNeighbors_classifier\n",
    "from sklearn.neighbors import KNeighborsRegressor\n",
    "model_KNN=KNeighborsRegressor(n_neighbors=4,metric='euclidean')\n",
    "\n",
    "#fit themodel on the data and predict the values\n",
    "model_KNN.fit(X_train,Y_train)\n",
    "\n",
    "Y_pred=model_KNN.predict(X_test)"
   ]
  },
  {
   "cell_type": "code",
   "execution_count": 17,
   "metadata": {},
   "outputs": [
    {
     "name": "stdout",
     "output_type": "stream",
     "text": [
      "0.9394530965066451\n",
      "1.5697880032029805\n"
     ]
    }
   ],
   "source": [
    "from sklearn.metrics import r2_score,mean_squared_error\n",
    "import numpy as np\n",
    "\n",
    "r2score=r2_score(Y_test,Y_pred)\n",
    "print(r2score)\n",
    "rmse=np.sqrt(mean_squared_error(Y_test,Y_pred))\n",
    "print(rmse)"
   ]
  }
 ],
 "metadata": {
  "kernelspec": {
   "display_name": "Python 3",
   "language": "python",
   "name": "python3"
  },
  "language_info": {
   "codemirror_mode": {
    "name": "ipython",
    "version": 3
   },
   "file_extension": ".py",
   "mimetype": "text/x-python",
   "name": "python",
   "nbconvert_exporter": "python",
   "pygments_lexer": "ipython3",
   "version": "3.7.3"
  }
 },
 "nbformat": 4,
 "nbformat_minor": 2
}
