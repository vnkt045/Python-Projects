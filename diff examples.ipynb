{
 "cells": [
  {
   "cell_type": "code",
   "execution_count": 1,
   "metadata": {},
   "outputs": [
    {
     "name": "stdout",
     "output_type": "stream",
     "text": [
      "Hello\n",
      "\n",
      "value ofa=\n",
      " 5\n",
      "Value of b= 3.2\n",
      "3.2 Hello\n",
      "3.2,Hello\n",
      "Hello\n"
     ]
    }
   ],
   "source": [
    "a=5; d=10\n",
    "b, c=3.2,\"Hello\"\n",
    "x=y=z=\"World\"\n",
    "\n",
    "print(c)\n",
    "print()\n",
    "print(\"value ofa=\\n\",a)\n",
    "print(\"Value of b=\",b)\n",
    "print(b,c)\n",
    "print(b,c,sep=\",\")\n",
    "print(c)"
   ]
  },
  {
   "cell_type": "code",
   "execution_count": 2,
   "metadata": {},
   "outputs": [
    {
     "name": "stdout",
     "output_type": "stream",
     "text": [
      "0.3333333333333333\n",
      "0\n",
      "1\n",
      "0.33\n"
     ]
    }
   ],
   "source": [
    "#Division operation in python\n",
    "print(1/3)\n",
    "print(1//3)             #floored division\n",
    "print(7%3)\n",
    "print(round(1/3,2))"
   ]
  },
  {
   "cell_type": "code",
   "execution_count": 5,
   "metadata": {},
   "outputs": [
    {
     "name": "stdout",
     "output_type": "stream",
     "text": [
      "<class 'int'>\n",
      "8\n",
      "<class 'float'>\n",
      "8.2\n",
      "53.2\n",
      "<class 'str'>\n"
     ]
    }
   ],
   "source": [
    "a=5\n",
    "b=3.2\n",
    "c=a+round(b)\n",
    "print(type(c))\n",
    "print(c)\n",
    "print(type(b))\n",
    "print(a+b)\n",
    "a=\"5\"\n",
    "b=\"3.2\"\n",
    "print(a+b)\n",
    "print(type(b))"
   ]
  },
  {
   "cell_type": "code",
   "execution_count": 7,
   "metadata": {},
   "outputs": [
    {
     "name": "stdout",
     "output_type": "stream",
     "text": [
      "This is the first block\n",
      "x is less than y\n",
      "Done\n"
     ]
    }
   ],
   "source": [
    "x=3\n",
    "y=5\n",
    "if x<y:\n",
    "    print(\"This is the first block\")\n",
    "    print(\"x is less than y\")\n",
    "elif x>y:\n",
    "    print(\"x is greater than y\")\n",
    "else:\n",
    "    print(\"x and y are equal\")\n",
    "print(\"Done\")\n"
   ]
  },
  {
   "cell_type": "code",
   "execution_count": 8,
   "metadata": {},
   "outputs": [
    {
     "name": "stdout",
     "output_type": "stream",
     "text": [
      "Enter your name: Venky we miss u\n",
      "Hello Venky we miss u\n"
     ]
    }
   ],
   "source": [
    "# user input\n",
    "name=input(\"Enter your name: \")\n",
    "print(\"Hello\",name)"
   ]
  },
  {
   "cell_type": "code",
   "execution_count": 9,
   "metadata": {},
   "outputs": [
    {
     "name": "stdout",
     "output_type": "stream",
     "text": [
      "x is less than y\n",
      "Done\n"
     ]
    }
   ],
   "source": [
    "if x==y:\n",
    "    print(\"x and y are equal\")\n",
    "else:\n",
    "    if x<y:\n",
    "        print(\"x is less than y\")\n",
    "    else:\n",
    "        print(\"y is less than y\")\n",
    "print(\"Done\")\n",
    "    "
   ]
  },
  {
   "cell_type": "code",
   "execution_count": 11,
   "metadata": {},
   "outputs": [
    {
     "name": "stdout",
     "output_type": "stream",
     "text": [
      "x is a positive single-digit number.\n"
     ]
    }
   ],
   "source": [
    "x=5;y=8\n",
    "if (x>7 and y>7) or x!=y:\n",
    "    print(\"x is a positive single-digit number.\")"
   ]
  },
  {
   "cell_type": "code",
   "execution_count": 3,
   "metadata": {},
   "outputs": [
    {
     "name": "stdout",
     "output_type": "stream",
     "text": [
      "Enter a number: 12.3\n",
      "value is = 12\n"
     ]
    },
    {
     "data": {
      "text/plain": [
       "144"
      ]
     },
     "execution_count": 3,
     "metadata": {},
     "output_type": "execute_result"
    }
   ],
   "source": [
    "#user defined function\n",
    "\n",
    "def square(a):\n",
    "    print(\"value is =\",a)\n",
    "    return a*a\n",
    "\n",
    "value=int(float(input(\"Enter a number: \")))    #type casting\n",
    "square(value)"
   ]
  },
  {
   "cell_type": "code",
   "execution_count": null,
   "metadata": {},
   "outputs": [],
   "source": []
  },
  {
   "cell_type": "code",
   "execution_count": null,
   "metadata": {},
   "outputs": [],
   "source": []
  }
 ],
 "metadata": {
  "kernelspec": {
   "display_name": "Python 3",
   "language": "python",
   "name": "python3"
  },
  "language_info": {
   "codemirror_mode": {
    "name": "ipython",
    "version": 3
   },
   "file_extension": ".py",
   "mimetype": "text/x-python",
   "name": "python",
   "nbconvert_exporter": "python",
   "pygments_lexer": "ipython3",
   "version": "3.7.3"
  }
 },
 "nbformat": 4,
 "nbformat_minor": 2
}
