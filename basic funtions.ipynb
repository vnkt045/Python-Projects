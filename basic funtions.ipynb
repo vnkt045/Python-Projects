{
 "cells": [
  {
   "cell_type": "code",
   "execution_count": 2,
   "metadata": {},
   "outputs": [
    {
     "name": "stdout",
     "output_type": "stream",
     "text": [
      "Dev 0\n",
      "Dev 1\n",
      "Dev 2\n",
      "Dev 3\n",
      "Dev 4\n",
      "Loop is over!\n"
     ]
    }
   ],
   "source": [
    "count=0\n",
    "while(count<5):\n",
    "    print('Dev',count)\n",
    "    count+=1\n",
    "else:\n",
    "    print(\"Loop is over!\")"
   ]
  },
  {
   "cell_type": "code",
   "execution_count": 3,
   "metadata": {},
   "outputs": [
    {
     "name": "stdout",
     "output_type": "stream",
     "text": [
      "100\n",
      "98\n",
      "96\n",
      "94\n",
      "92\n",
      "90\n",
      "88\n",
      "86\n",
      "84\n",
      "82\n",
      "80\n",
      "78\n",
      "76\n",
      "74\n",
      "72\n",
      "70\n"
     ]
    }
   ],
   "source": [
    "count=100\n",
    "while(count>=70):\n",
    "    if(count%2==0):\n",
    "        print(count)\n",
    "    count-=1"
   ]
  },
  {
   "cell_type": "code",
   "execution_count": 4,
   "metadata": {},
   "outputs": [
    {
     "name": "stdout",
     "output_type": "stream",
     "text": [
      "A\n",
      "B\n",
      "3.6\n"
     ]
    }
   ],
   "source": [
    "friends=['A','B',3.6]\n",
    "for f in friends:\n",
    "    print(f)"
   ]
  },
  {
   "cell_type": "code",
   "execution_count": 5,
   "metadata": {},
   "outputs": [
    {
     "name": "stdout",
     "output_type": "stream",
     "text": [
      "<class 'int'>\n",
      "<class 'float'>\n",
      "<class 'complex'>\n"
     ]
    }
   ],
   "source": [
    "a=5\n",
    "print(type(a))\n",
    "a=50.5\n",
    "print(type(a))\n",
    "a=5+4j\n",
    "print(type(a))"
   ]
  },
  {
   "cell_type": "code",
   "execution_count": 6,
   "metadata": {},
   "outputs": [
    {
     "name": "stdout",
     "output_type": "stream",
     "text": [
      "-2\n",
      "5.0\n",
      "2.0\n",
      "-11\n",
      "8.0\n",
      "120\n",
      "3.141592653589793\n"
     ]
    }
   ],
   "source": [
    "print(int(-2.8))\n",
    "print(float(5))\n",
    "\n",
    "import math\n",
    "\n",
    "print(math.sqrt(4))\n",
    "print(math.floor(-10.7))\n",
    "print(math.pow(2,3))\n",
    "print(math.factorial(5))\n",
    "print(math.pi)\n",
    "\n",
    "?math.sqrt"
   ]
  },
  {
   "cell_type": "code",
   "execution_count": 7,
   "metadata": {},
   "outputs": [
    {
     "name": "stdout",
     "output_type": "stream",
     "text": [
      "0.07589733048769975\n",
      "50\n",
      "69.84541309631159\n"
     ]
    }
   ],
   "source": [
    "import random as rn\n",
    "\n",
    "#rn.seed(10)\n",
    "print(rn.random())\n",
    "print(rn.randrange(1,100))\n",
    "print(rn.uniform(50.5,100))"
   ]
  },
  {
   "cell_type": "code",
   "execution_count": 8,
   "metadata": {},
   "outputs": [
    {
     "name": "stdout",
     "output_type": "stream",
     "text": [
      "hello world\n",
      "Python is programming Language\n",
      "Python is interesting\n",
      "This is it.\n",
      "Python is programmming language. \n",
      "This is it.\n"
     ]
    }
   ],
   "source": [
    "my_string='hello world'\n",
    "print(my_string)\n",
    "\n",
    "\"\"\"This is a comment\"\"\"\n",
    "\n",
    "my_string=\"\"\"Python is programming Language\n",
    "Python is interesting\n",
    "This is it.\"\"\"\n",
    "print(my_string)\n",
    "\n",
    "my_string=\"Python is programmming language. \\nThis is it.\"\n",
    "print(my_string)"
   ]
  },
  {
   "cell_type": "code",
   "execution_count": 9,
   "metadata": {},
   "outputs": [
    {
     "name": "stdout",
     "output_type": "stream",
     "text": [
      "P\n",
      "i\n",
      "hn is p\n",
      "Pythn is programming lang\n",
      "nguage. Python is interesting\n",
      "Pythn is programming language. Python is interesting\n",
      "Pythn is programming language. Python is interesting\n",
      "hello World\n",
      "python\n",
      "['PYTHON', 'IS', 'A', 'PROGRAMMING', 'LANGUAGE.']\n",
      "Shubh Diwali\n"
     ]
    }
   ],
   "source": [
    "#slicing\n",
    "my_string=\"Pythn is programming language. Python is interesting\"\n",
    "\n",
    "print(my_string[0])\n",
    "print(my_string[-3])\n",
    "#[inclusive:exclusive]\n",
    "print(my_string[3:10])\n",
    "print(my_string[:25])\n",
    "print(my_string[23:])\n",
    "print(my_string[:])\n",
    "#print(my_string[100]) it is logically wrong code hence converted into comment for reference\n",
    "\n",
    "len(my_string)\n",
    "#del my_string\n",
    "print(my_string)\n",
    "str1='hello'\n",
    "str2='World'\n",
    "str1=str1+\" \"+str2\n",
    "print(str1)\n",
    "\n",
    "print(\"PythOn\".lower())\n",
    "string=\"Python,is,a,programming,language.\"\n",
    "print(string.upper().split(sep=\",\"))\n",
    "\n",
    "print('Happy Diwali'.replace(\"Happy\",\"Shubh\"))"
   ]
  },
  {
   "cell_type": "markdown",
   "metadata": {},
   "source": [
    "# List Datatype is started from the below program"
   ]
  },
  {
   "cell_type": "code",
   "execution_count": 10,
   "metadata": {},
   "outputs": [
    {
     "name": "stdout",
     "output_type": "stream",
     "text": [
      "a[2] =  3\n",
      "a[0:3] =  [1, 2, 3]\n",
      "a[5: ] =  [6, 7, 8]\n"
     ]
    }
   ],
   "source": [
    "#using sliceing operator\n",
    "a=[1,2,3,4,5,6,7,8]\n",
    "print(\"a[2] = \",a[2])\n",
    "print(\"a[0:3] = \",a[0:3])\n",
    "print(\"a[5: ] = \",a[5:])"
   ]
  },
  {
   "cell_type": "code",
   "execution_count": 11,
   "metadata": {},
   "outputs": [
    {
     "name": "stdout",
     "output_type": "stream",
     "text": [
      "[0, 1, 2, 3, 4, 5, 6, 7, 8, 9]\n"
     ]
    }
   ],
   "source": [
    "x=list(range(0,10))\n",
    "print(x)"
   ]
  },
  {
   "cell_type": "code",
   "execution_count": 12,
   "metadata": {},
   "outputs": [
    {
     "name": "stdout",
     "output_type": "stream",
     "text": [
      "2.0\n",
      "raj\n",
      "j\n"
     ]
    }
   ],
   "source": [
    "b=['spam',2.0,5,[10,\"raj\"]] #nested List\n",
    "print(b[1])\n",
    "print(b[3][1])\n",
    "print(b[3][1][2])"
   ]
  },
  {
   "cell_type": "code",
   "execution_count": 13,
   "metadata": {},
   "outputs": [
    {
     "name": "stdout",
     "output_type": "stream",
     "text": [
      "[1, 2, 3, 4, 5, 6, 7, 8, 9]\n",
      "[1, 2, 3, 55.0, 5, 6, 7, 8, 9]\n"
     ]
    }
   ],
   "source": [
    "#lists are mutable\n",
    "a=[1,2,3,4,5,6,7,8,9]\n",
    "print(a)\n",
    "a[3]=55.0\n",
    "print(a)"
   ]
  },
  {
   "cell_type": "code",
   "execution_count": 14,
   "metadata": {},
   "outputs": [
    {
     "data": {
      "text/plain": [
       "[1, 2, 3, 55.0, 5, 6, 7, 8, 9, 'spam', 2.0, 5, [10, 'raj'], 5, 6]"
      ]
     },
     "execution_count": 14,
     "metadata": {},
     "output_type": "execute_result"
    }
   ],
   "source": [
    "#concatenation of Lists\n",
    "c=a+b+[5,6]\n",
    "c"
   ]
  },
  {
   "cell_type": "code",
   "execution_count": 15,
   "metadata": {},
   "outputs": [
    {
     "data": {
      "text/plain": [
       "3"
      ]
     },
     "execution_count": 15,
     "metadata": {},
     "output_type": "execute_result"
    }
   ],
   "source": [
    "3"
   ]
  },
  {
   "cell_type": "code",
   "execution_count": 16,
   "metadata": {},
   "outputs": [
    {
     "name": "stdout",
     "output_type": "stream",
     "text": [
      "enter an Element: 1\n",
      "enter an Element: 2\n",
      "enter an Element: 3\n",
      "enter an Element: 4\n",
      "enter an Element: 5\n",
      "['1', '2', '3', '4', '5']\n"
     ]
    }
   ],
   "source": [
    "#appending a single element\n",
    "my_list=[]\n",
    "i=1\n",
    "\n",
    "while(i<=5):\n",
    "    value=input(\"enter an Element: \")\n",
    "    my_list.append(value)\n",
    "    i+=1\n",
    "print(my_list)"
   ]
  },
  {
   "cell_type": "code",
   "execution_count": 17,
   "metadata": {},
   "outputs": [
    {
     "name": "stdout",
     "output_type": "stream",
     "text": [
      "[1, 3, 4, 5, 7, 18, 69, 89]\n"
     ]
    }
   ],
   "source": [
    "my_list=[1,4,3,89]\n",
    "my_new_list=[5,69,7,18]\n",
    "my_list.extend(my_new_list)\n",
    "my_list.sort()\n",
    "print(my_list)\n"
   ]
  },
  {
   "cell_type": "code",
   "execution_count": 18,
   "metadata": {},
   "outputs": [
    {
     "name": "stdout",
     "output_type": "stream",
     "text": [
      "['a', 'd', 'b', 'c', 'd', 'e', 'f']\n",
      "1\n"
     ]
    }
   ],
   "source": [
    "list1=['a','b','c','d','e','f']\n",
    "list1.insert(1,\"d\")\n",
    "print(list1)\n",
    "print(list1.index(\"d\"))"
   ]
  },
  {
   "cell_type": "code",
   "execution_count": 19,
   "metadata": {},
   "outputs": [
    {
     "name": "stdout",
     "output_type": "stream",
     "text": [
      "['f', 'e', 'd', 'c', 'b', 'd', 'a']\n"
     ]
    }
   ],
   "source": [
    "list1.reverse()\n",
    "print(list1)"
   ]
  },
  {
   "cell_type": "code",
   "execution_count": 20,
   "metadata": {},
   "outputs": [
    {
     "name": "stdout",
     "output_type": "stream",
     "text": [
      "['a', 'b', 'c', 'd', 'd', 'e', 'f']\n",
      "['f', 'e', 'd', 'd', 'c', 'b', 'a']\n"
     ]
    }
   ],
   "source": [
    "list1.sort()\n",
    "print(list1)\n",
    "\n",
    "list1.sort(reverse=True)\n",
    "print(list1)"
   ]
  },
  {
   "cell_type": "code",
   "execution_count": 24,
   "metadata": {},
   "outputs": [
    {
     "ename": "TypeError",
     "evalue": "'<' not supported between instances of 'float' and 'str'",
     "output_type": "error",
     "traceback": [
      "\u001b[1;31m---------------------------------------------------------------------------\u001b[0m",
      "\u001b[1;31mTypeError\u001b[0m                                 Traceback (most recent call last)",
      "\u001b[1;32m<ipython-input-24-22123e00039d>\u001b[0m in \u001b[0;36m<module>\u001b[1;34m\u001b[0m\n\u001b[0;32m      1\u001b[0m \u001b[0mb\u001b[0m\u001b[1;33m=\u001b[0m\u001b[1;33m[\u001b[0m\u001b[1;34m'spam'\u001b[0m\u001b[1;33m,\u001b[0m\u001b[1;36m2.0\u001b[0m\u001b[1;33m,\u001b[0m\u001b[1;36m4\u001b[0m\u001b[1;33m,\u001b[0m\u001b[1;33m[\u001b[0m\u001b[1;36m10\u001b[0m\u001b[1;33m,\u001b[0m\u001b[1;34m\"raj\"\u001b[0m\u001b[1;33m]\u001b[0m\u001b[1;33m]\u001b[0m\u001b[1;33m\u001b[0m\u001b[1;33m\u001b[0m\u001b[0m\n\u001b[1;32m----> 2\u001b[1;33m \u001b[0mb\u001b[0m\u001b[1;33m.\u001b[0m\u001b[0msort\u001b[0m\u001b[1;33m(\u001b[0m\u001b[1;33m)\u001b[0m\u001b[1;33m\u001b[0m\u001b[1;33m\u001b[0m\u001b[0m\n\u001b[0m",
      "\u001b[1;31mTypeError\u001b[0m: '<' not supported between instances of 'float' and 'str'"
     ]
    }
   ],
   "source": [
    "b=['spam',2.0,4,[10,\"raj\"]]\n",
    "b.sort()"
   ]
  },
  {
   "cell_type": "code",
   "execution_count": null,
   "metadata": {},
   "outputs": [],
   "source": [
    "del list1[4]\n",
    "print(list1)"
   ]
  },
  {
   "cell_type": "code",
   "execution_count": null,
   "metadata": {},
   "outputs": [],
   "source": [
    "print(list1)"
   ]
  },
  {
   "cell_type": "code",
   "execution_count": null,
   "metadata": {},
   "outputs": [],
   "source": [
    "list1.remove('d')\n",
    "print(list1)"
   ]
  },
  {
   "cell_type": "code",
   "execution_count": null,
   "metadata": {},
   "outputs": [],
   "source": [
    "list2=list1.copy()\n",
    "list2"
   ]
  },
  {
   "cell_type": "code",
   "execution_count": null,
   "metadata": {},
   "outputs": [],
   "source": [
    "list1.clear()\n",
    "list1"
   ]
  },
  {
   "cell_type": "code",
   "execution_count": null,
   "metadata": {},
   "outputs": [],
   "source": [
    "#aggregate function\n",
    "num=[1,2,3,4,5,6]\n",
    "#num = [\"p\",2.5,'python']\n",
    "print(len(num))\n",
    "print(max(num))\n",
    "print(min(num))\n",
    "print(sum(num))\n",
    "print(sum(num)/len(num))"
   ]
  },
  {
   "cell_type": "code",
   "execution_count": null,
   "metadata": {},
   "outputs": [],
   "source": [
    "a=[1,2,3,4,5]\n",
    "b=[6,7,8,9,10]\n",
    "print(list(zip(a,b)))"
   ]
  },
  {
   "cell_type": "code",
   "execution_count": null,
   "metadata": {},
   "outputs": [],
   "source": [
    "#empty tuple\n",
    "c=()\n",
    "print(type(c))"
   ]
  },
  {
   "cell_type": "code",
   "execution_count": null,
   "metadata": {},
   "outputs": [],
   "source": [
    "cc=tuple(\"Python\")\n",
    "print(cc)\n",
    "d=tuple([1,2,3,4,5])\n",
    "print(d)"
   ]
  },
  {
   "cell_type": "code",
   "execution_count": null,
   "metadata": {},
   "outputs": [],
   "source": [
    "n_tuple=('mouse',(1,2,3),8)\n",
    "print(n_tuple[1])\n",
    "print(n_tuple[1][2])\n",
    "#n_tuple[1][2]=0\n",
    "#del n_tuple[1]          #tuples are imutable\n",
    "print(n_tuple)\n",
    "del n_tuple"
   ]
  },
  {
   "cell_type": "code",
   "execution_count": null,
   "metadata": {},
   "outputs": [],
   "source": [
    "my_set={1,2,3,5,7,6,4,3,2,10,38,72,16}\n",
    "print(my_set)\n",
    "my_set={1,1.0,'Hello','Venky',(1,2,3)}\n",
    "print(my_set)\n",
    "#my_set[0]          #indexing is not allowed\n",
    "a={}                 #reserved for dictionary\n",
    "print(type(a))\n",
    "a=set()\n",
    "print(type(a))"
   ]
  },
  {
   "cell_type": "code",
   "execution_count": null,
   "metadata": {},
   "outputs": [],
   "source": [
    "#adding element in a set\n",
    "my_set={1,3}\n",
    "print(my_set)\n",
    "\n",
    "#my_set[0]=1\n",
    "\n",
    "my_set.add(8)\n",
    "print(my_set)\n",
    "my_set.update([6,8],{1,4,5},{12,15},[\"python\"])\n",
    "print(my_set)"
   ]
  },
  {
   "cell_type": "code",
   "execution_count": null,
   "metadata": {},
   "outputs": [],
   "source": [
    "#removing elements\n",
    "my_set.remove(6)\n",
    "print(my_set)\n",
    "del my_set[2]\n",
    "print(my_set)"
   ]
  },
  {
   "cell_type": "code",
   "execution_count": null,
   "metadata": {},
   "outputs": [],
   "source": [
    "#union an intersection\n",
    "A={1,2,3,4,5,9}\n",
    "B={4,5,6,7,8,10}\n",
    "\n",
    "print(A|B)\n",
    "print(A.union(B))\n",
    "print(A&B)\n",
    "print(A.intersection(B))"
   ]
  },
  {
   "cell_type": "code",
   "execution_count": null,
   "metadata": {},
   "outputs": [],
   "source": [
    "a={1,2,3,4,5,10}\n",
    "b={4,5,6,6,7,8}\n",
    "print(a-b)\n",
    "print(b.difference(a))"
   ]
  },
  {
   "cell_type": "code",
   "execution_count": 25,
   "metadata": {},
   "outputs": [
    {
     "name": "stdout",
     "output_type": "stream",
     "text": [
      "{1: 'A', 2: 'B'}\n",
      "{'name': ['John', 'Nikita', 'Alex'], 'ID': [2, 4, 3]}\n",
      "{'fruit': 'mango', 2: 'mango'}\n",
      "{'fruit': ['apple', 'mango'], 2: 'mango'}\n"
     ]
    }
   ],
   "source": [
    "#creating a dictionary\n",
    "my_d={}\n",
    "my_d={1:'A',2:'B'}\n",
    "print(my_d)\n",
    "\n",
    "my_d={'name':['John','Nikita','Alex'],'ID':[2,4,3]}\n",
    "print(my_d)\n",
    "my_d=dict([('fruit','apple'),(2,'mango'),('fruit','mango')])\n",
    "print(my_d)\n",
    "my_d=dict([('fruit','apple'),(2,'mango'),('fruit',['apple','mango'])])\n",
    "print(my_d)"
   ]
  },
  {
   "cell_type": "code",
   "execution_count": 27,
   "metadata": {},
   "outputs": [
    {
     "name": "stdout",
     "output_type": "stream",
     "text": [
      "Dev\n",
      "40\n"
     ]
    }
   ],
   "source": [
    "#accessing values\n",
    "my_d={'name':'Dev','age':40}\n",
    "\n",
    "print(my_d['name'])\n",
    "print(my_d['age'])\n",
    "#print(my_d['add'])"
   ]
  },
  {
   "cell_type": "code",
   "execution_count": 28,
   "metadata": {},
   "outputs": [
    {
     "name": "stdout",
     "output_type": "stream",
     "text": [
      "{'name': 'Dev', 'age': 12}\n",
      "{'name': 'Dev', 'age': 12, 'adress': 'Mumbai'}\n"
     ]
    }
   ],
   "source": [
    "#updating\n",
    "my_d['age']=12\n",
    "print(my_d)\n",
    "my_d['adress']='Mumbai'\n",
    "print(my_d)"
   ]
  },
  {
   "cell_type": "code",
   "execution_count": 29,
   "metadata": {},
   "outputs": [
    {
     "name": "stdout",
     "output_type": "stream",
     "text": [
      "{1: 1, 2: 4, 3: 9, 4: 16}\n",
      "{}\n"
     ]
    }
   ],
   "source": [
    "#deleting\n",
    "squares={1:1,2:4,3:9,4:16,5:25}\n",
    "del squares[5]\n",
    "print(squares)\n",
    "squares={1:1,2:4,3:9,4:16,5:25}\n",
    "squares.clear()\n",
    "print(squares)"
   ]
  },
  {
   "cell_type": "code",
   "execution_count": 30,
   "metadata": {},
   "outputs": [
    {
     "name": "stdout",
     "output_type": "stream",
     "text": [
      "{1: 6, 2: 7, 3: 8, 4: 9, 5: 10}\n"
     ]
    }
   ],
   "source": [
    "A=[1,2,3,4,5]\n",
    "B=(6,7,8,9,10)\n",
    "C=zip(A,B)\n",
    "my_d1=dict(C)\n",
    "print(my_d1)"
   ]
  },
  {
   "cell_type": "code",
   "execution_count": null,
   "metadata": {},
   "outputs": [],
   "source": []
  }
 ],
 "metadata": {
  "kernelspec": {
   "display_name": "Python 3",
   "language": "python",
   "name": "python3"
  },
  "language_info": {
   "codemirror_mode": {
    "name": "ipython",
    "version": 3
   },
   "file_extension": ".py",
   "mimetype": "text/x-python",
   "name": "python",
   "nbconvert_exporter": "python",
   "pygments_lexer": "ipython3",
   "version": "3.7.3"
  }
 },
 "nbformat": 4,
 "nbformat_minor": 2
}
