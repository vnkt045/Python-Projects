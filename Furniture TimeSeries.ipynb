{
 "cells": [
  {
   "cell_type": "code",
   "execution_count": 7,
   "metadata": {},
   "outputs": [
    {
     "data": {
      "text/html": [
       "<div>\n",
       "<style scoped>\n",
       "    .dataframe tbody tr th:only-of-type {\n",
       "        vertical-align: middle;\n",
       "    }\n",
       "\n",
       "    .dataframe tbody tr th {\n",
       "        vertical-align: top;\n",
       "    }\n",
       "\n",
       "    .dataframe thead th {\n",
       "        text-align: right;\n",
       "    }\n",
       "</style>\n",
       "<table border=\"1\" class=\"dataframe\">\n",
       "  <thead>\n",
       "    <tr style=\"text-align: right;\">\n",
       "      <th></th>\n",
       "      <th>Row ID</th>\n",
       "      <th>Order ID</th>\n",
       "      <th>Order Date</th>\n",
       "      <th>Ship Date</th>\n",
       "      <th>Ship Mode</th>\n",
       "      <th>Customer ID</th>\n",
       "      <th>Customer Name</th>\n",
       "      <th>Segment</th>\n",
       "      <th>Country</th>\n",
       "      <th>City</th>\n",
       "      <th>...</th>\n",
       "      <th>Postal Code</th>\n",
       "      <th>Region</th>\n",
       "      <th>Product ID</th>\n",
       "      <th>Category</th>\n",
       "      <th>Sub-Category</th>\n",
       "      <th>Product Name</th>\n",
       "      <th>Sales</th>\n",
       "      <th>Quantity</th>\n",
       "      <th>Discount</th>\n",
       "      <th>Profit</th>\n",
       "    </tr>\n",
       "  </thead>\n",
       "  <tbody>\n",
       "    <tr>\n",
       "      <th>0</th>\n",
       "      <td>1</td>\n",
       "      <td>CA-2016-152156</td>\n",
       "      <td>2016-11-08</td>\n",
       "      <td>2016-11-11</td>\n",
       "      <td>Second Class</td>\n",
       "      <td>CG-12520</td>\n",
       "      <td>Claire Gute</td>\n",
       "      <td>Consumer</td>\n",
       "      <td>United States</td>\n",
       "      <td>Henderson</td>\n",
       "      <td>...</td>\n",
       "      <td>42420</td>\n",
       "      <td>South</td>\n",
       "      <td>FUR-BO-10001798</td>\n",
       "      <td>Furniture</td>\n",
       "      <td>Bookcases</td>\n",
       "      <td>Bush Somerset Collection Bookcase</td>\n",
       "      <td>261.9600</td>\n",
       "      <td>2</td>\n",
       "      <td>0.00</td>\n",
       "      <td>41.9136</td>\n",
       "    </tr>\n",
       "    <tr>\n",
       "      <th>1</th>\n",
       "      <td>2</td>\n",
       "      <td>CA-2016-152156</td>\n",
       "      <td>2016-11-08</td>\n",
       "      <td>2016-11-11</td>\n",
       "      <td>Second Class</td>\n",
       "      <td>CG-12520</td>\n",
       "      <td>Claire Gute</td>\n",
       "      <td>Consumer</td>\n",
       "      <td>United States</td>\n",
       "      <td>Henderson</td>\n",
       "      <td>...</td>\n",
       "      <td>42420</td>\n",
       "      <td>South</td>\n",
       "      <td>FUR-CH-10000454</td>\n",
       "      <td>Furniture</td>\n",
       "      <td>Chairs</td>\n",
       "      <td>Hon Deluxe Fabric Upholstered Stacking Chairs,...</td>\n",
       "      <td>731.9400</td>\n",
       "      <td>3</td>\n",
       "      <td>0.00</td>\n",
       "      <td>219.5820</td>\n",
       "    </tr>\n",
       "    <tr>\n",
       "      <th>2</th>\n",
       "      <td>3</td>\n",
       "      <td>CA-2016-138688</td>\n",
       "      <td>2016-06-12</td>\n",
       "      <td>2016-06-16</td>\n",
       "      <td>Second Class</td>\n",
       "      <td>DV-13045</td>\n",
       "      <td>Darrin Van Huff</td>\n",
       "      <td>Corporate</td>\n",
       "      <td>United States</td>\n",
       "      <td>Los Angeles</td>\n",
       "      <td>...</td>\n",
       "      <td>90036</td>\n",
       "      <td>West</td>\n",
       "      <td>OFF-LA-10000240</td>\n",
       "      <td>Office Supplies</td>\n",
       "      <td>Labels</td>\n",
       "      <td>Self-Adhesive Address Labels for Typewriters b...</td>\n",
       "      <td>14.6200</td>\n",
       "      <td>2</td>\n",
       "      <td>0.00</td>\n",
       "      <td>6.8714</td>\n",
       "    </tr>\n",
       "    <tr>\n",
       "      <th>3</th>\n",
       "      <td>4</td>\n",
       "      <td>US-2015-108966</td>\n",
       "      <td>2015-10-11</td>\n",
       "      <td>2015-10-18</td>\n",
       "      <td>Standard Class</td>\n",
       "      <td>SO-20335</td>\n",
       "      <td>Sean O'Donnell</td>\n",
       "      <td>Consumer</td>\n",
       "      <td>United States</td>\n",
       "      <td>Fort Lauderdale</td>\n",
       "      <td>...</td>\n",
       "      <td>33311</td>\n",
       "      <td>South</td>\n",
       "      <td>FUR-TA-10000577</td>\n",
       "      <td>Furniture</td>\n",
       "      <td>Tables</td>\n",
       "      <td>Bretford CR4500 Series Slim Rectangular Table</td>\n",
       "      <td>957.5775</td>\n",
       "      <td>5</td>\n",
       "      <td>0.45</td>\n",
       "      <td>-383.0310</td>\n",
       "    </tr>\n",
       "    <tr>\n",
       "      <th>4</th>\n",
       "      <td>5</td>\n",
       "      <td>US-2015-108966</td>\n",
       "      <td>2015-10-11</td>\n",
       "      <td>2015-10-18</td>\n",
       "      <td>Standard Class</td>\n",
       "      <td>SO-20335</td>\n",
       "      <td>Sean O'Donnell</td>\n",
       "      <td>Consumer</td>\n",
       "      <td>United States</td>\n",
       "      <td>Fort Lauderdale</td>\n",
       "      <td>...</td>\n",
       "      <td>33311</td>\n",
       "      <td>South</td>\n",
       "      <td>OFF-ST-10000760</td>\n",
       "      <td>Office Supplies</td>\n",
       "      <td>Storage</td>\n",
       "      <td>Eldon Fold 'N Roll Cart System</td>\n",
       "      <td>22.3680</td>\n",
       "      <td>2</td>\n",
       "      <td>0.20</td>\n",
       "      <td>2.5164</td>\n",
       "    </tr>\n",
       "  </tbody>\n",
       "</table>\n",
       "<p>5 rows × 21 columns</p>\n",
       "</div>"
      ],
      "text/plain": [
       "   Row ID        Order ID Order Date  Ship Date       Ship Mode Customer ID  \\\n",
       "0       1  CA-2016-152156 2016-11-08 2016-11-11    Second Class    CG-12520   \n",
       "1       2  CA-2016-152156 2016-11-08 2016-11-11    Second Class    CG-12520   \n",
       "2       3  CA-2016-138688 2016-06-12 2016-06-16    Second Class    DV-13045   \n",
       "3       4  US-2015-108966 2015-10-11 2015-10-18  Standard Class    SO-20335   \n",
       "4       5  US-2015-108966 2015-10-11 2015-10-18  Standard Class    SO-20335   \n",
       "\n",
       "     Customer Name    Segment        Country             City  ...  \\\n",
       "0      Claire Gute   Consumer  United States        Henderson  ...   \n",
       "1      Claire Gute   Consumer  United States        Henderson  ...   \n",
       "2  Darrin Van Huff  Corporate  United States      Los Angeles  ...   \n",
       "3   Sean O'Donnell   Consumer  United States  Fort Lauderdale  ...   \n",
       "4   Sean O'Donnell   Consumer  United States  Fort Lauderdale  ...   \n",
       "\n",
       "  Postal Code  Region       Product ID         Category Sub-Category  \\\n",
       "0       42420   South  FUR-BO-10001798        Furniture    Bookcases   \n",
       "1       42420   South  FUR-CH-10000454        Furniture       Chairs   \n",
       "2       90036    West  OFF-LA-10000240  Office Supplies       Labels   \n",
       "3       33311   South  FUR-TA-10000577        Furniture       Tables   \n",
       "4       33311   South  OFF-ST-10000760  Office Supplies      Storage   \n",
       "\n",
       "                                        Product Name     Sales  Quantity  \\\n",
       "0                  Bush Somerset Collection Bookcase  261.9600         2   \n",
       "1  Hon Deluxe Fabric Upholstered Stacking Chairs,...  731.9400         3   \n",
       "2  Self-Adhesive Address Labels for Typewriters b...   14.6200         2   \n",
       "3      Bretford CR4500 Series Slim Rectangular Table  957.5775         5   \n",
       "4                     Eldon Fold 'N Roll Cart System   22.3680         2   \n",
       "\n",
       "   Discount    Profit  \n",
       "0      0.00   41.9136  \n",
       "1      0.00  219.5820  \n",
       "2      0.00    6.8714  \n",
       "3      0.45 -383.0310  \n",
       "4      0.20    2.5164  \n",
       "\n",
       "[5 rows x 21 columns]"
      ]
     },
     "execution_count": 7,
     "metadata": {},
     "output_type": "execute_result"
    }
   ],
   "source": [
    "import pandas as pd \n",
    "import numpy as np \n",
    "import matplotlib.pyplot as plt \n",
    "#Importing data\n",
    "df = pd.read_excel('Sample - Superstore.xls')\n",
    "#Printing head\n",
    "df.head()"
   ]
  },
  {
   "cell_type": "code",
   "execution_count": 8,
   "metadata": {},
   "outputs": [
    {
     "data": {
      "text/plain": [
       "(9994, 21)"
      ]
     },
     "execution_count": 8,
     "metadata": {},
     "output_type": "execute_result"
    }
   ],
   "source": [
    "df.shape"
   ]
  },
  {
   "cell_type": "code",
   "execution_count": 9,
   "metadata": {},
   "outputs": [
    {
     "data": {
      "text/plain": [
       "Office Supplies    6026\n",
       "Furniture          2121\n",
       "Technology         1847\n",
       "Name: Category, dtype: int64"
      ]
     },
     "execution_count": 9,
     "metadata": {},
     "output_type": "execute_result"
    }
   ],
   "source": [
    "df.Category.value_counts()"
   ]
  },
  {
   "cell_type": "code",
   "execution_count": 10,
   "metadata": {},
   "outputs": [
    {
     "data": {
      "text/plain": [
       "(2121, 21)"
      ]
     },
     "execution_count": 10,
     "metadata": {},
     "output_type": "execute_result"
    }
   ],
   "source": [
    "furniture = df.loc[df['Category'] == 'Furniture']\n",
    "furniture.shape"
   ]
  },
  {
   "cell_type": "code",
   "execution_count": 11,
   "metadata": {},
   "outputs": [],
   "source": [
    "furniture=furniture[[\"Order Date\",\"Sales\"]]\n",
    "furniture = furniture.sort_values('Order Date')\n"
   ]
  },
  {
   "cell_type": "code",
   "execution_count": 12,
   "metadata": {
    "scrolled": true
   },
   "outputs": [
    {
     "data": {
      "text/plain": [
       "(Timestamp('2014-01-06 00:00:00'), Timestamp('2017-12-30 00:00:00'))"
      ]
     },
     "execution_count": 12,
     "metadata": {},
     "output_type": "execute_result"
    }
   ],
   "source": [
    "furniture['Order Date'].min(), furniture['Order Date'].max()"
   ]
  },
  {
   "cell_type": "code",
   "execution_count": 13,
   "metadata": {},
   "outputs": [
    {
     "data": {
      "text/html": [
       "<div>\n",
       "<style scoped>\n",
       "    .dataframe tbody tr th:only-of-type {\n",
       "        vertical-align: middle;\n",
       "    }\n",
       "\n",
       "    .dataframe tbody tr th {\n",
       "        vertical-align: top;\n",
       "    }\n",
       "\n",
       "    .dataframe thead th {\n",
       "        text-align: right;\n",
       "    }\n",
       "</style>\n",
       "<table border=\"1\" class=\"dataframe\">\n",
       "  <thead>\n",
       "    <tr style=\"text-align: right;\">\n",
       "      <th></th>\n",
       "      <th>Order Date</th>\n",
       "      <th>Sales</th>\n",
       "    </tr>\n",
       "  </thead>\n",
       "  <tbody>\n",
       "    <tr>\n",
       "      <th>7474</th>\n",
       "      <td>2014-01-06</td>\n",
       "      <td>2573.8200</td>\n",
       "    </tr>\n",
       "    <tr>\n",
       "      <th>7660</th>\n",
       "      <td>2014-01-07</td>\n",
       "      <td>76.7280</td>\n",
       "    </tr>\n",
       "    <tr>\n",
       "      <th>866</th>\n",
       "      <td>2014-01-10</td>\n",
       "      <td>51.9400</td>\n",
       "    </tr>\n",
       "    <tr>\n",
       "      <th>716</th>\n",
       "      <td>2014-01-11</td>\n",
       "      <td>9.9400</td>\n",
       "    </tr>\n",
       "    <tr>\n",
       "      <th>2978</th>\n",
       "      <td>2014-01-13</td>\n",
       "      <td>545.9400</td>\n",
       "    </tr>\n",
       "    <tr>\n",
       "      <th>4938</th>\n",
       "      <td>2014-01-13</td>\n",
       "      <td>333.9990</td>\n",
       "    </tr>\n",
       "    <tr>\n",
       "      <th>6474</th>\n",
       "      <td>2014-01-14</td>\n",
       "      <td>61.9600</td>\n",
       "    </tr>\n",
       "    <tr>\n",
       "      <th>970</th>\n",
       "      <td>2014-01-16</td>\n",
       "      <td>127.1040</td>\n",
       "    </tr>\n",
       "    <tr>\n",
       "      <th>5465</th>\n",
       "      <td>2014-01-19</td>\n",
       "      <td>181.4700</td>\n",
       "    </tr>\n",
       "    <tr>\n",
       "      <th>6327</th>\n",
       "      <td>2014-01-20</td>\n",
       "      <td>272.9400</td>\n",
       "    </tr>\n",
       "    <tr>\n",
       "      <th>6332</th>\n",
       "      <td>2014-01-20</td>\n",
       "      <td>14.7300</td>\n",
       "    </tr>\n",
       "    <tr>\n",
       "      <th>1123</th>\n",
       "      <td>2014-01-20</td>\n",
       "      <td>38.6000</td>\n",
       "    </tr>\n",
       "    <tr>\n",
       "      <th>5737</th>\n",
       "      <td>2014-01-20</td>\n",
       "      <td>19.3000</td>\n",
       "    </tr>\n",
       "    <tr>\n",
       "      <th>1126</th>\n",
       "      <td>2014-01-20</td>\n",
       "      <td>1067.9400</td>\n",
       "    </tr>\n",
       "    <tr>\n",
       "      <th>9989</th>\n",
       "      <td>2014-01-21</td>\n",
       "      <td>25.2480</td>\n",
       "    </tr>\n",
       "    <tr>\n",
       "      <th>8150</th>\n",
       "      <td>2014-01-26</td>\n",
       "      <td>141.9600</td>\n",
       "    </tr>\n",
       "    <tr>\n",
       "      <th>2583</th>\n",
       "      <td>2014-01-26</td>\n",
       "      <td>12.4200</td>\n",
       "    </tr>\n",
       "    <tr>\n",
       "      <th>2578</th>\n",
       "      <td>2014-01-26</td>\n",
       "      <td>62.8200</td>\n",
       "    </tr>\n",
       "    <tr>\n",
       "      <th>3795</th>\n",
       "      <td>2014-01-27</td>\n",
       "      <td>333.0000</td>\n",
       "    </tr>\n",
       "    <tr>\n",
       "      <th>3365</th>\n",
       "      <td>2014-01-31</td>\n",
       "      <td>290.6660</td>\n",
       "    </tr>\n",
       "    <tr>\n",
       "      <th>9266</th>\n",
       "      <td>2014-02-08</td>\n",
       "      <td>14.5600</td>\n",
       "    </tr>\n",
       "    <tr>\n",
       "      <th>9254</th>\n",
       "      <td>2014-02-11</td>\n",
       "      <td>60.8900</td>\n",
       "    </tr>\n",
       "    <tr>\n",
       "      <th>5631</th>\n",
       "      <td>2014-02-11</td>\n",
       "      <td>1256.2200</td>\n",
       "    </tr>\n",
       "    <tr>\n",
       "      <th>9257</th>\n",
       "      <td>2014-02-11</td>\n",
       "      <td>332.9400</td>\n",
       "    </tr>\n",
       "    <tr>\n",
       "      <th>456</th>\n",
       "      <td>2014-02-12</td>\n",
       "      <td>129.5680</td>\n",
       "    </tr>\n",
       "    <tr>\n",
       "      <th>6081</th>\n",
       "      <td>2014-02-18</td>\n",
       "      <td>25.1600</td>\n",
       "    </tr>\n",
       "    <tr>\n",
       "      <th>4521</th>\n",
       "      <td>2014-02-20</td>\n",
       "      <td>20.3200</td>\n",
       "    </tr>\n",
       "    <tr>\n",
       "      <th>8310</th>\n",
       "      <td>2014-03-01</td>\n",
       "      <td>376.5090</td>\n",
       "    </tr>\n",
       "    <tr>\n",
       "      <th>157</th>\n",
       "      <td>2014-03-01</td>\n",
       "      <td>457.5680</td>\n",
       "    </tr>\n",
       "    <tr>\n",
       "      <th>6547</th>\n",
       "      <td>2014-03-01</td>\n",
       "      <td>634.1160</td>\n",
       "    </tr>\n",
       "    <tr>\n",
       "      <th>...</th>\n",
       "      <td>...</td>\n",
       "      <td>...</td>\n",
       "    </tr>\n",
       "    <tr>\n",
       "      <th>7150</th>\n",
       "      <td>2017-12-22</td>\n",
       "      <td>141.9600</td>\n",
       "    </tr>\n",
       "    <tr>\n",
       "      <th>3102</th>\n",
       "      <td>2017-12-22</td>\n",
       "      <td>220.9800</td>\n",
       "    </tr>\n",
       "    <tr>\n",
       "      <th>2056</th>\n",
       "      <td>2017-12-22</td>\n",
       "      <td>1586.6900</td>\n",
       "    </tr>\n",
       "    <tr>\n",
       "      <th>2058</th>\n",
       "      <td>2017-12-22</td>\n",
       "      <td>411.8000</td>\n",
       "    </tr>\n",
       "    <tr>\n",
       "      <th>6222</th>\n",
       "      <td>2017-12-23</td>\n",
       "      <td>72.7040</td>\n",
       "    </tr>\n",
       "    <tr>\n",
       "      <th>8391</th>\n",
       "      <td>2017-12-23</td>\n",
       "      <td>27.4600</td>\n",
       "    </tr>\n",
       "    <tr>\n",
       "      <th>2294</th>\n",
       "      <td>2017-12-23</td>\n",
       "      <td>181.9500</td>\n",
       "    </tr>\n",
       "    <tr>\n",
       "      <th>3314</th>\n",
       "      <td>2017-12-24</td>\n",
       "      <td>271.7640</td>\n",
       "    </tr>\n",
       "    <tr>\n",
       "      <th>5147</th>\n",
       "      <td>2017-12-24</td>\n",
       "      <td>8.5440</td>\n",
       "    </tr>\n",
       "    <tr>\n",
       "      <th>5148</th>\n",
       "      <td>2017-12-24</td>\n",
       "      <td>842.3760</td>\n",
       "    </tr>\n",
       "    <tr>\n",
       "      <th>4030</th>\n",
       "      <td>2017-12-24</td>\n",
       "      <td>232.8800</td>\n",
       "    </tr>\n",
       "    <tr>\n",
       "      <th>3700</th>\n",
       "      <td>2017-12-24</td>\n",
       "      <td>37.9300</td>\n",
       "    </tr>\n",
       "    <tr>\n",
       "      <th>688</th>\n",
       "      <td>2017-12-25</td>\n",
       "      <td>191.9840</td>\n",
       "    </tr>\n",
       "    <tr>\n",
       "      <th>110</th>\n",
       "      <td>2017-12-25</td>\n",
       "      <td>41.9600</td>\n",
       "    </tr>\n",
       "    <tr>\n",
       "      <th>2425</th>\n",
       "      <td>2017-12-25</td>\n",
       "      <td>273.0600</td>\n",
       "    </tr>\n",
       "    <tr>\n",
       "      <th>8956</th>\n",
       "      <td>2017-12-25</td>\n",
       "      <td>21.0000</td>\n",
       "    </tr>\n",
       "    <tr>\n",
       "      <th>2003</th>\n",
       "      <td>2017-12-25</td>\n",
       "      <td>304.4500</td>\n",
       "    </tr>\n",
       "    <tr>\n",
       "      <th>6819</th>\n",
       "      <td>2017-12-28</td>\n",
       "      <td>7.9680</td>\n",
       "    </tr>\n",
       "    <tr>\n",
       "      <th>6820</th>\n",
       "      <td>2017-12-28</td>\n",
       "      <td>113.3720</td>\n",
       "    </tr>\n",
       "    <tr>\n",
       "      <th>6821</th>\n",
       "      <td>2017-12-28</td>\n",
       "      <td>2.9600</td>\n",
       "    </tr>\n",
       "    <tr>\n",
       "      <th>6149</th>\n",
       "      <td>2017-12-28</td>\n",
       "      <td>340.7040</td>\n",
       "    </tr>\n",
       "    <tr>\n",
       "      <th>954</th>\n",
       "      <td>2017-12-28</td>\n",
       "      <td>78.8528</td>\n",
       "    </tr>\n",
       "    <tr>\n",
       "      <th>2431</th>\n",
       "      <td>2017-12-28</td>\n",
       "      <td>7.4000</td>\n",
       "    </tr>\n",
       "    <tr>\n",
       "      <th>1877</th>\n",
       "      <td>2017-12-29</td>\n",
       "      <td>393.5680</td>\n",
       "    </tr>\n",
       "    <tr>\n",
       "      <th>5457</th>\n",
       "      <td>2017-12-29</td>\n",
       "      <td>68.4600</td>\n",
       "    </tr>\n",
       "    <tr>\n",
       "      <th>7636</th>\n",
       "      <td>2017-12-29</td>\n",
       "      <td>258.7500</td>\n",
       "    </tr>\n",
       "    <tr>\n",
       "      <th>7632</th>\n",
       "      <td>2017-12-29</td>\n",
       "      <td>1207.8400</td>\n",
       "    </tr>\n",
       "    <tr>\n",
       "      <th>5131</th>\n",
       "      <td>2017-12-29</td>\n",
       "      <td>101.1200</td>\n",
       "    </tr>\n",
       "    <tr>\n",
       "      <th>7635</th>\n",
       "      <td>2017-12-29</td>\n",
       "      <td>300.9800</td>\n",
       "    </tr>\n",
       "    <tr>\n",
       "      <th>906</th>\n",
       "      <td>2017-12-30</td>\n",
       "      <td>323.1360</td>\n",
       "    </tr>\n",
       "  </tbody>\n",
       "</table>\n",
       "<p>2121 rows × 2 columns</p>\n",
       "</div>"
      ],
      "text/plain": [
       "     Order Date      Sales\n",
       "7474 2014-01-06  2573.8200\n",
       "7660 2014-01-07    76.7280\n",
       "866  2014-01-10    51.9400\n",
       "716  2014-01-11     9.9400\n",
       "2978 2014-01-13   545.9400\n",
       "4938 2014-01-13   333.9990\n",
       "6474 2014-01-14    61.9600\n",
       "970  2014-01-16   127.1040\n",
       "5465 2014-01-19   181.4700\n",
       "6327 2014-01-20   272.9400\n",
       "6332 2014-01-20    14.7300\n",
       "1123 2014-01-20    38.6000\n",
       "5737 2014-01-20    19.3000\n",
       "1126 2014-01-20  1067.9400\n",
       "9989 2014-01-21    25.2480\n",
       "8150 2014-01-26   141.9600\n",
       "2583 2014-01-26    12.4200\n",
       "2578 2014-01-26    62.8200\n",
       "3795 2014-01-27   333.0000\n",
       "3365 2014-01-31   290.6660\n",
       "9266 2014-02-08    14.5600\n",
       "9254 2014-02-11    60.8900\n",
       "5631 2014-02-11  1256.2200\n",
       "9257 2014-02-11   332.9400\n",
       "456  2014-02-12   129.5680\n",
       "6081 2014-02-18    25.1600\n",
       "4521 2014-02-20    20.3200\n",
       "8310 2014-03-01   376.5090\n",
       "157  2014-03-01   457.5680\n",
       "6547 2014-03-01   634.1160\n",
       "...         ...        ...\n",
       "7150 2017-12-22   141.9600\n",
       "3102 2017-12-22   220.9800\n",
       "2056 2017-12-22  1586.6900\n",
       "2058 2017-12-22   411.8000\n",
       "6222 2017-12-23    72.7040\n",
       "8391 2017-12-23    27.4600\n",
       "2294 2017-12-23   181.9500\n",
       "3314 2017-12-24   271.7640\n",
       "5147 2017-12-24     8.5440\n",
       "5148 2017-12-24   842.3760\n",
       "4030 2017-12-24   232.8800\n",
       "3700 2017-12-24    37.9300\n",
       "688  2017-12-25   191.9840\n",
       "110  2017-12-25    41.9600\n",
       "2425 2017-12-25   273.0600\n",
       "8956 2017-12-25    21.0000\n",
       "2003 2017-12-25   304.4500\n",
       "6819 2017-12-28     7.9680\n",
       "6820 2017-12-28   113.3720\n",
       "6821 2017-12-28     2.9600\n",
       "6149 2017-12-28   340.7040\n",
       "954  2017-12-28    78.8528\n",
       "2431 2017-12-28     7.4000\n",
       "1877 2017-12-29   393.5680\n",
       "5457 2017-12-29    68.4600\n",
       "7636 2017-12-29   258.7500\n",
       "7632 2017-12-29  1207.8400\n",
       "5131 2017-12-29   101.1200\n",
       "7635 2017-12-29   300.9800\n",
       "906  2017-12-30   323.1360\n",
       "\n",
       "[2121 rows x 2 columns]"
      ]
     },
     "execution_count": 13,
     "metadata": {},
     "output_type": "execute_result"
    }
   ],
   "source": [
    "furniture"
   ]
  },
  {
   "cell_type": "code",
   "execution_count": 14,
   "metadata": {},
   "outputs": [
    {
     "data": {
      "text/plain": [
       "(889, 2)"
      ]
     },
     "execution_count": 14,
     "metadata": {},
     "output_type": "execute_result"
    }
   ],
   "source": [
    "furniture = furniture.groupby('Order Date')['Sales'].sum().reset_index()\n",
    "furniture.shape"
   ]
  },
  {
   "cell_type": "code",
   "execution_count": 15,
   "metadata": {},
   "outputs": [],
   "source": [
    "furniture = furniture.set_index('Order Date')\n"
   ]
  },
  {
   "cell_type": "code",
   "execution_count": 16,
   "metadata": {},
   "outputs": [
    {
     "data": {
      "text/html": [
       "<div>\n",
       "<style scoped>\n",
       "    .dataframe tbody tr th:only-of-type {\n",
       "        vertical-align: middle;\n",
       "    }\n",
       "\n",
       "    .dataframe tbody tr th {\n",
       "        vertical-align: top;\n",
       "    }\n",
       "\n",
       "    .dataframe thead th {\n",
       "        text-align: right;\n",
       "    }\n",
       "</style>\n",
       "<table border=\"1\" class=\"dataframe\">\n",
       "  <thead>\n",
       "    <tr style=\"text-align: right;\">\n",
       "      <th></th>\n",
       "      <th>Sales</th>\n",
       "    </tr>\n",
       "    <tr>\n",
       "      <th>Order Date</th>\n",
       "      <th></th>\n",
       "    </tr>\n",
       "  </thead>\n",
       "  <tbody>\n",
       "    <tr>\n",
       "      <th>2014-01-06</th>\n",
       "      <td>2573.820</td>\n",
       "    </tr>\n",
       "    <tr>\n",
       "      <th>2014-01-07</th>\n",
       "      <td>76.728</td>\n",
       "    </tr>\n",
       "    <tr>\n",
       "      <th>2014-01-10</th>\n",
       "      <td>51.940</td>\n",
       "    </tr>\n",
       "    <tr>\n",
       "      <th>2014-01-11</th>\n",
       "      <td>9.940</td>\n",
       "    </tr>\n",
       "    <tr>\n",
       "      <th>2014-01-13</th>\n",
       "      <td>879.939</td>\n",
       "    </tr>\n",
       "  </tbody>\n",
       "</table>\n",
       "</div>"
      ],
      "text/plain": [
       "               Sales\n",
       "Order Date          \n",
       "2014-01-06  2573.820\n",
       "2014-01-07    76.728\n",
       "2014-01-10    51.940\n",
       "2014-01-11     9.940\n",
       "2014-01-13   879.939"
      ]
     },
     "execution_count": 16,
     "metadata": {},
     "output_type": "execute_result"
    }
   ],
   "source": [
    "furniture.head()"
   ]
  },
  {
   "cell_type": "code",
   "execution_count": 17,
   "metadata": {},
   "outputs": [],
   "source": [
    "y = furniture['Sales'].resample('MS').sum()\n"
   ]
  },
  {
   "cell_type": "code",
   "execution_count": 18,
   "metadata": {},
   "outputs": [
    {
     "data": {
      "text/plain": [
       "Order Date\n",
       "2014-01-01     6242.525\n",
       "2014-02-01     1839.658\n",
       "2014-03-01    14573.956\n",
       "2014-04-01     7944.837\n",
       "2014-05-01     6912.787\n",
       "Freq: MS, Name: Sales, dtype: float64"
      ]
     },
     "execution_count": 18,
     "metadata": {},
     "output_type": "execute_result"
    }
   ],
   "source": [
    "y.head()"
   ]
  },
  {
   "cell_type": "code",
   "execution_count": 19,
   "metadata": {},
   "outputs": [
    {
     "data": {
      "text/plain": [
       "(48,)"
      ]
     },
     "execution_count": 19,
     "metadata": {},
     "output_type": "execute_result"
    }
   ],
   "source": [
    "y.shape"
   ]
  },
  {
   "cell_type": "code",
   "execution_count": 20,
   "metadata": {},
   "outputs": [
    {
     "data": {
      "image/png": "[encoded data removed]",
      "text/plain": [
       "<Figure size 720x432 with 1 Axes>"
      ]
     },
     "metadata": {
      "needs_background": "light"
     },
     "output_type": "display_data"
    }
   ],
   "source": [
    "y.plot(figsize=(10, 6))\n",
    "plt.show()"
   ]
  },
  {
   "cell_type": "code",
   "execution_count": 21,
   "metadata": {
    "scrolled": true
   },
   "outputs": [
    {
     "name": "stdout",
     "output_type": "stream",
     "text": [
      "ADF Statistic: -4.699026242828902\n",
      "p-value: 0.000085\n"
     ]
    }
   ],
   "source": [
    "#checking stationarity\n",
    "from statsmodels.tsa.stattools import adfuller\n",
    "\n",
    "result = adfuller(y)\n",
    "print('ADF Statistic:',result[0])\n",
    "print('p-value: %f' %result[1])\n"
   ]
  },
  {
   "cell_type": "code",
   "execution_count": null,
   "metadata": {},
   "outputs": [],
   "source": []
  },
  {
   "cell_type": "code",
   "execution_count": 22,
   "metadata": {},
   "outputs": [
    {
     "data": {
      "text/plain": [
       "'f=y.diff( periods= 1)\\nf.plot(figsize=(10, 6))\\nplt.show()\\n'"
      ]
     },
     "execution_count": 22,
     "metadata": {},
     "output_type": "execute_result"
    }
   ],
   "source": [
    "\"\"\"f=y.diff( periods= 1)\n",
    "f.plot(figsize=(10, 6))\n",
    "plt.show()\n",
    "\"\"\""
   ]
  },
  {
   "cell_type": "code",
   "execution_count": 35,
   "metadata": {
    "scrolled": true
   },
   "outputs": [
    {
     "data": {
      "image/png": "[encoded data removed]",
      "text/plain": [
       "<Figure size 432x288 with 4 Axes>"
      ]
     },
     "metadata": {
      "needs_background": "light"
     },
     "output_type": "display_data"
    }
   ],
   "source": [
    "import statsmodels.api as sm\n",
    "decomposition = sm.tsa.seasonal_decompose(y)\n",
    "fig = decomposition.plot()\n",
    "plt.show()"
   ]
  },
  {
   "cell_type": "code",
   "execution_count": 24,
   "metadata": {
    "scrolled": true
   },
   "outputs": [
    {
     "name": "stdout",
     "output_type": "stream",
     "text": [
      "SARIMAX: (0, 0, 1) x (0, 0, 0, 12)\n"
     ]
    }
   ],
   "source": [
    "import itertools\n",
    "p = d = q = range(0, 3)\n",
    "pdq = list(itertools.product(p, d, q))\n",
    "seasonal_pdq = [(x[0], x[1], x[2], 12) for x in list(itertools.product(p, d, q))]\n",
    "\n",
    "print('SARIMAX:',pdq[1],'x', seasonal_pdq[0])\n"
   ]
  },
  {
   "cell_type": "code",
   "execution_count": 25,
   "metadata": {},
   "outputs": [
    {
     "data": {
      "text/plain": [
       "[(0, 0, 0),\n",
       " (0, 0, 1),\n",
       " (0, 0, 2),\n",
       " (0, 1, 0),\n",
       " (0, 1, 1),\n",
       " (0, 1, 2),\n",
       " (0, 2, 0),\n",
       " (0, 2, 1),\n",
       " (0, 2, 2),\n",
       " (1, 0, 0),\n",
       " (1, 0, 1),\n",
       " (1, 0, 2),\n",
       " (1, 1, 0),\n",
       " (1, 1, 1),\n",
       " (1, 1, 2),\n",
       " (1, 2, 0),\n",
       " (1, 2, 1),\n",
       " (1, 2, 2),\n",
       " (2, 0, 0),\n",
       " (2, 0, 1),\n",
       " (2, 0, 2),\n",
       " (2, 1, 0),\n",
       " (2, 1, 1),\n",
       " (2, 1, 2),\n",
       " (2, 2, 0),\n",
       " (2, 2, 1),\n",
       " (2, 2, 2)]"
      ]
     },
     "execution_count": 25,
     "metadata": {},
     "output_type": "execute_result"
    }
   ],
   "source": [
    "pdq"
   ]
  },
  {
   "cell_type": "code",
   "execution_count": 26,
   "metadata": {
    "scrolled": true
   },
   "outputs": [
    {
     "name": "stdout",
     "output_type": "stream",
     "text": [
      "ARIMA (0, 0, 0) x (0, 0, 0, 12)  - AIC: 1078.25888197625\n"
     ]
    },
    {
     "name": "stderr",
     "output_type": "stream",
     "text": [
      "E:\\ProgramData\\Anaconda3\\lib\\site-packages\\statsmodels\\tsa\\statespace\\sarimax.py:993: UserWarning: Non-invertible starting seasonal moving average Using zeros as starting parameters.\n",
      "  warn('Non-invertible starting seasonal moving average'\n"
     ]
    },
    {
     "name": "stdout",
     "output_type": "stream",
     "text": [
      "ARIMA (0, 0, 0) x (0, 0, 1, 12)  - AIC: 1045.3573933812233\n",
      "ARIMA (0, 0, 0) x (0, 1, 0, 12)  - AIC: 711.5292879261439\n",
      "ARIMA (0, 0, 0) x (0, 2, 0, 12)  - AIC: 497.8250498333558\n"
     ]
    },
    {
     "name": "stderr",
     "output_type": "stream",
     "text": [
      "E:\\ProgramData\\Anaconda3\\lib\\site-packages\\statsmodels\\tsa\\statespace\\sarimax.py:981: UserWarning: Non-stationary starting seasonal autoregressive Using zeros as starting parameters.\n",
      "  warn('Non-stationary starting seasonal autoregressive'\n"
     ]
    },
    {
     "name": "stdout",
     "output_type": "stream",
     "text": [
      "ARIMA (0, 0, 0) x (1, 0, 0, 12)  - AIC: 982.2455258712331\n",
      "ARIMA (0, 0, 0) x (1, 0, 1, 12)  - AIC: 982.850740903561\n",
      "ARIMA (0, 0, 0) x (1, 1, 0, 12)  - AIC: 713.4200494282586\n",
      "ARIMA (0, 0, 0) x (1, 2, 0, 12)  - AIC: 490.1871497788143\n",
      "ARIMA (0, 0, 0) x (2, 0, 0, 12)  - AIC: 982.6177199783656\n",
      "ARIMA (0, 0, 0) x (2, 0, 1, 12)  - AIC: 984.3886994081557\n",
      "ARIMA (0, 0, 0) x (2, 1, 0, 12)  - AIC: 708.7100068262419\n",
      "ARIMA (0, 0, 1) x (0, 0, 0, 12)  - AIC: 1059.367274937736\n",
      "ARIMA (0, 0, 1) x (0, 0, 1, 12)  - AIC: 1053.0746436585878\n",
      "ARIMA (0, 0, 1) x (0, 1, 0, 12)  - AIC: 712.7790106247764\n",
      "ARIMA (0, 0, 1) x (0, 2, 0, 12)  - AIC: 499.43007675371143\n",
      "ARIMA (0, 0, 1) x (1, 0, 0, 12)  - AIC: 1049.505112067567\n",
      "ARIMA (0, 0, 1) x (1, 0, 1, 12)  - AIC: 980.7458429204471\n",
      "ARIMA (0, 0, 1) x (1, 1, 0, 12)  - AIC: 714.3827137353879\n",
      "ARIMA (0, 0, 1) x (1, 2, 0, 12)  - AIC: 488.4404209506092\n",
      "ARIMA (0, 0, 1) x (2, 0, 0, 12)  - AIC: 1051.2751847064094\n",
      "ARIMA (0, 0, 1) x (2, 0, 1, 12)  - AIC: 1053.2582912292346\n",
      "ARIMA (0, 0, 1) x (2, 1, 0, 12)  - AIC: 711.449771682523\n",
      "ARIMA (0, 0, 2) x (0, 0, 0, 12)  - AIC: 1058.9383831637715\n",
      "ARIMA (0, 0, 2) x (0, 0, 1, 12)  - AIC: 1055.0130158035358\n",
      "ARIMA (0, 0, 2) x (0, 1, 0, 12)  - AIC: 714.9183736731619\n",
      "ARIMA (0, 0, 2) x (0, 2, 0, 12)  - AIC: 501.34412540463984\n",
      "ARIMA (0, 0, 2) x (1, 0, 0, 12)  - AIC: 1052.3615134284378\n"
     ]
    },
    {
     "name": "stderr",
     "output_type": "stream",
     "text": [
      "E:\\ProgramData\\Anaconda3\\lib\\site-packages\\statsmodels\\base\\model.py:512: ConvergenceWarning: Maximum Likelihood optimization failed to converge. Check mle_retvals\n",
      "  \"Check mle_retvals\", ConvergenceWarning)\n"
     ]
    },
    {
     "name": "stdout",
     "output_type": "stream",
     "text": [
      "ARIMA (0, 0, 2) x (1, 0, 1, 12)  - AIC: 982.7783718571081\n",
      "ARIMA (0, 0, 2) x (1, 1, 0, 12)  - AIC: 716.4370665861788\n",
      "ARIMA (0, 0, 2) x (1, 2, 0, 12)  - AIC: 493.9373656163703\n",
      "ARIMA (0, 0, 2) x (2, 0, 0, 12)  - AIC: 1054.12084826966\n",
      "ARIMA (0, 0, 2) x (2, 0, 1, 12)  - AIC: 1056.1063166074186\n",
      "ARIMA (0, 0, 2) x (2, 1, 0, 12)  - AIC: 713.9025584287727\n",
      "ARIMA (0, 1, 0) x (0, 0, 0, 12)  - AIC: 1005.3736412641732\n",
      "ARIMA (0, 1, 0) x (0, 0, 1, 12)  - AIC: 994.3391176363109\n",
      "ARIMA (0, 1, 0) x (0, 1, 0, 12)  - AIC: 714.9974499615421\n",
      "ARIMA (0, 1, 0) x (0, 2, 0, 12)  - AIC: 492.4441082574184\n",
      "ARIMA (0, 1, 0) x (1, 0, 0, 12)  - AIC: 979.0640123312471\n"
     ]
    },
    {
     "name": "stderr",
     "output_type": "stream",
     "text": [
      "E:\\ProgramData\\Anaconda3\\lib\\site-packages\\statsmodels\\base\\model.py:512: ConvergenceWarning: Maximum Likelihood optimization failed to converge. Check mle_retvals\n",
      "  \"Check mle_retvals\", ConvergenceWarning)\n"
     ]
    },
    {
     "name": "stdout",
     "output_type": "stream",
     "text": [
      "ARIMA (0, 1, 0) x (1, 0, 1, 12)  - AIC: 980.2161971836701\n",
      "ARIMA (0, 1, 0) x (1, 1, 0, 12)  - AIC: 713.494129984216\n",
      "ARIMA (0, 1, 0) x (1, 2, 0, 12)  - AIC: 479.1881617315286\n",
      "ARIMA (0, 1, 0) x (2, 0, 0, 12)  - AIC: 981.8451811920007\n"
     ]
    },
    {
     "name": "stderr",
     "output_type": "stream",
     "text": [
      "E:\\ProgramData\\Anaconda3\\lib\\site-packages\\statsmodels\\base\\model.py:512: ConvergenceWarning: Maximum Likelihood optimization failed to converge. Check mle_retvals\n",
      "  \"Check mle_retvals\", ConvergenceWarning)\n"
     ]
    },
    {
     "name": "stdout",
     "output_type": "stream",
     "text": [
      "ARIMA (0, 1, 0) x (2, 0, 1, 12)  - AIC: 979.1951725505904\n",
      "ARIMA (0, 1, 0) x (2, 1, 0, 12)  - AIC: 713.7596081782841\n",
      "ARIMA (0, 1, 1) x (0, 0, 0, 12)  - AIC: 994.2446376692089\n",
      "ARIMA (0, 1, 1) x (0, 0, 1, 12)  - AIC: 981.6348022717941\n",
      "ARIMA (0, 1, 1) x (0, 1, 0, 12)  - AIC: 711.3983144344264\n",
      "ARIMA (0, 1, 1) x (0, 2, 0, 12)  - AIC: 483.73048874654285\n",
      "ARIMA (0, 1, 1) x (1, 0, 0, 12)  - AIC: 968.1204696018037\n",
      "ARIMA (0, 1, 1) x (1, 0, 1, 12)  - AIC: 982.7105929343466\n",
      "ARIMA (0, 1, 1) x (1, 1, 0, 12)  - AIC: 709.3634613045409\n",
      "ARIMA (0, 1, 1) x (1, 2, 0, 12)  - AIC: 468.7377127462507\n",
      "ARIMA (0, 1, 1) x (2, 0, 0, 12)  - AIC: 964.6630538344231\n",
      "ARIMA (0, 1, 1) x (2, 0, 1, 12)  - AIC: 984.171452559862\n",
      "ARIMA (0, 1, 1) x (2, 1, 0, 12)  - AIC: 709.1624931868272\n",
      "ARIMA (0, 1, 2) x (0, 0, 0, 12)  - AIC: 994.8502225261551\n",
      "ARIMA (0, 1, 2) x (0, 0, 1, 12)  - AIC: 981.7140548150894\n",
      "ARIMA (0, 1, 2) x (0, 1, 0, 12)  - AIC: 712.2228795169575\n",
      "ARIMA (0, 1, 2) x (0, 2, 0, 12)  - AIC: 484.60534435780517\n",
      "ARIMA (0, 1, 2) x (1, 0, 0, 12)  - AIC: 982.3324890616522\n",
      "ARIMA (0, 1, 2) x (1, 0, 1, 12)  - AIC: 968.9617189670156\n",
      "ARIMA (0, 1, 2) x (1, 1, 0, 12)  - AIC: 709.4008540021896\n",
      "ARIMA (0, 1, 2) x (1, 2, 0, 12)  - AIC: 480.12911118388746\n",
      "ARIMA (0, 1, 2) x (2, 0, 0, 12)  - AIC: 966.2441701187703\n"
     ]
    },
    {
     "name": "stderr",
     "output_type": "stream",
     "text": [
      "E:\\ProgramData\\Anaconda3\\lib\\site-packages\\statsmodels\\base\\model.py:512: ConvergenceWarning: Maximum Likelihood optimization failed to converge. Check mle_retvals\n",
      "  \"Check mle_retvals\", ConvergenceWarning)\n"
     ]
    },
    {
     "name": "stdout",
     "output_type": "stream",
     "text": [
      "ARIMA (0, 1, 2) x (2, 0, 1, 12)  - AIC: 966.9067800880355\n",
      "ARIMA (0, 1, 2) x (2, 1, 0, 12)  - AIC: 709.9370469103151\n",
      "ARIMA (0, 2, 0) x (0, 0, 0, 12)  - AIC: 1032.1247708705994\n",
      "ARIMA (0, 2, 0) x (0, 0, 1, 12)  - AIC: 1018.9440539866871\n",
      "ARIMA (0, 2, 0) x (0, 1, 0, 12)  - AIC: 730.6784029892915\n",
      "ARIMA (0, 2, 0) x (0, 2, 0, 12)  - AIC: 491.93490653857845\n",
      "ARIMA (0, 2, 0) x (1, 0, 0, 12)  - AIC: 1005.6141402722919\n",
      "ARIMA (0, 2, 0) x (1, 0, 1, 12)  - AIC: 1030.1416584874014\n",
      "ARIMA (0, 2, 0) x (1, 1, 0, 12)  - AIC: 730.241636374332\n",
      "ARIMA (0, 2, 0) x (1, 2, 0, 12)  - AIC: 493.034538605825\n",
      "ARIMA (0, 2, 0) x (2, 0, 0, 12)  - AIC: 1004.7574813483711\n",
      "ARIMA (0, 2, 0) x (2, 0, 1, 12)  - AIC: 1011.9074008796422\n",
      "ARIMA (0, 2, 0) x (2, 1, 0, 12)  - AIC: 736.8004795639392\n",
      "ARIMA (0, 2, 1) x (0, 0, 0, 12)  - AIC: 989.5419166768011\n"
     ]
    },
    {
     "name": "stderr",
     "output_type": "stream",
     "text": [
      "E:\\ProgramData\\Anaconda3\\lib\\site-packages\\statsmodels\\tsa\\statespace\\sarimax.py:961: UserWarning: Non-invertible starting MA parameters found. Using zeros as starting parameters.\n",
      "  warn('Non-invertible starting MA parameters found.'\n"
     ]
    },
    {
     "name": "stdout",
     "output_type": "stream",
     "text": [
      "ARIMA (0, 2, 1) x (0, 0, 1, 12)  - AIC: 976.8978036908396\n",
      "ARIMA (0, 2, 1) x (0, 1, 0, 12)  - AIC: 699.0422182305908\n",
      "ARIMA (0, 2, 1) x (0, 2, 0, 12)  - AIC: 474.66004974686376\n",
      "ARIMA (0, 2, 1) x (1, 0, 0, 12)  - AIC: 962.3072601243791\n",
      "ARIMA (0, 2, 1) x (1, 0, 1, 12)  - AIC: 962.7372716758447\n",
      "ARIMA (0, 2, 1) x (1, 1, 0, 12)  - AIC: 697.3200822982375\n",
      "ARIMA (0, 2, 1) x (1, 2, 0, 12)  - AIC: 468.51319705445263\n",
      "ARIMA (0, 2, 1) x (2, 0, 0, 12)  - AIC: 960.8798311993366\n",
      "ARIMA (0, 2, 1) x (2, 0, 1, 12)  - AIC: 983.9425058811291\n",
      "ARIMA (0, 2, 1) x (2, 1, 0, 12)  - AIC: 699.3476231063893\n",
      "ARIMA (0, 2, 2) x (0, 0, 0, 12)  - AIC: 983.9203676807817\n",
      "ARIMA (0, 2, 2) x (0, 0, 1, 12)  - AIC: 966.3984738507595\n",
      "ARIMA (0, 2, 2) x (0, 1, 0, 12)  - AIC: 692.5276503519971\n",
      "ARIMA (0, 2, 2) x (0, 2, 0, 12)  - AIC: 476.24126106924007\n",
      "ARIMA (0, 2, 2) x (1, 0, 0, 12)  - AIC: 976.2699097813257\n"
     ]
    },
    {
     "name": "stderr",
     "output_type": "stream",
     "text": [
      "E:\\ProgramData\\Anaconda3\\lib\\site-packages\\statsmodels\\base\\model.py:512: ConvergenceWarning: Maximum Likelihood optimization failed to converge. Check mle_retvals\n",
      "  \"Check mle_retvals\", ConvergenceWarning)\n"
     ]
    },
    {
     "name": "stdout",
     "output_type": "stream",
     "text": [
      "ARIMA (0, 2, 2) x (1, 0, 1, 12)  - AIC: 955.8801989785019\n",
      "ARIMA (0, 2, 2) x (1, 1, 0, 12)  - AIC: 690.3352934872238\n",
      "ARIMA (0, 2, 2) x (1, 2, 0, 12)  - AIC: 456.41051246119866\n"
     ]
    },
    {
     "name": "stderr",
     "output_type": "stream",
     "text": [
      "E:\\ProgramData\\Anaconda3\\lib\\site-packages\\statsmodels\\base\\model.py:512: ConvergenceWarning: Maximum Likelihood optimization failed to converge. Check mle_retvals\n",
      "  \"Check mle_retvals\", ConvergenceWarning)\n"
     ]
    },
    {
     "name": "stdout",
     "output_type": "stream",
     "text": [
      "ARIMA (0, 2, 2) x (2, 0, 0, 12)  - AIC: 954.8068077862364\n",
      "ARIMA (0, 2, 2) x (2, 0, 1, 12)  - AIC: 979.8486579707658\n",
      "ARIMA (0, 2, 2) x (2, 1, 0, 12)  - AIC: 690.823977127396\n",
      "ARIMA (1, 0, 0) x (0, 0, 0, 12)  - AIC: 1026.1291342527686\n",
      "ARIMA (1, 0, 0) x (0, 0, 1, 12)  - AIC: 1013.4893645800755\n",
      "ARIMA (1, 0, 0) x (0, 1, 0, 12)  - AIC: 712.5992604202136\n",
      "ARIMA (1, 0, 0) x (0, 2, 0, 12)  - AIC: 499.36538114532993\n",
      "ARIMA (1, 0, 0) x (1, 0, 0, 12)  - AIC: 979.53454694344\n",
      "ARIMA (1, 0, 0) x (1, 0, 1, 12)  - AIC: 978.1377133797821\n",
      "ARIMA (1, 0, 0) x (1, 1, 0, 12)  - AIC: 714.0923601681995\n",
      "ARIMA (1, 0, 0) x (1, 2, 0, 12)  - AIC: 491.026889463299\n",
      "ARIMA (1, 0, 0) x (2, 0, 0, 12)  - AIC: 1007.1934000819326\n",
      "ARIMA (1, 0, 0) x (2, 0, 1, 12)  - AIC: 1009.1904027184563\n",
      "ARIMA (1, 0, 0) x (2, 1, 0, 12)  - AIC: 710.8560188488758\n",
      "ARIMA (1, 0, 1) x (0, 0, 0, 12)  - AIC: 1018.3471684815405\n"
     ]
    },
    {
     "name": "stderr",
     "output_type": "stream",
     "text": [
      "E:\\ProgramData\\Anaconda3\\lib\\site-packages\\statsmodels\\tsa\\statespace\\sarimax.py:949: UserWarning: Non-stationary starting autoregressive parameters found. Using zeros as starting parameters.\n",
      "  warn('Non-stationary starting autoregressive parameters'\n"
     ]
    },
    {
     "name": "stdout",
     "output_type": "stream",
     "text": [
      "ARIMA (1, 0, 1) x (0, 0, 1, 12)  - AIC: 1006.4656559928344\n",
      "ARIMA (1, 0, 1) x (0, 1, 0, 12)  - AIC: 711.12073145183\n",
      "ARIMA (1, 0, 1) x (0, 2, 0, 12)  - AIC: 501.152321278051\n"
     ]
    },
    {
     "name": "stderr",
     "output_type": "stream",
     "text": [
      "E:\\ProgramData\\Anaconda3\\lib\\site-packages\\statsmodels\\base\\model.py:512: ConvergenceWarning: Maximum Likelihood optimization failed to converge. Check mle_retvals\n",
      "  \"Check mle_retvals\", ConvergenceWarning)\n"
     ]
    },
    {
     "name": "stdout",
     "output_type": "stream",
     "text": [
      "ARIMA (1, 0, 1) x (1, 0, 0, 12)  - AIC: 969.9726235587264\n"
     ]
    },
    {
     "name": "stderr",
     "output_type": "stream",
     "text": [
      "E:\\ProgramData\\Anaconda3\\lib\\site-packages\\statsmodels\\base\\model.py:512: ConvergenceWarning: Maximum Likelihood optimization failed to converge. Check mle_retvals\n",
      "  \"Check mle_retvals\", ConvergenceWarning)\n"
     ]
    },
    {
     "name": "stdout",
     "output_type": "stream",
     "text": [
      "ARIMA (1, 0, 1) x (1, 0, 1, 12)  - AIC: 968.0881252837645\n"
     ]
    },
    {
     "name": "stderr",
     "output_type": "stream",
     "text": [
      "E:\\ProgramData\\Anaconda3\\lib\\site-packages\\statsmodels\\base\\model.py:512: ConvergenceWarning: Maximum Likelihood optimization failed to converge. Check mle_retvals\n",
      "  \"Check mle_retvals\", ConvergenceWarning)\n"
     ]
    },
    {
     "name": "stdout",
     "output_type": "stream",
     "text": [
      "ARIMA (1, 0, 1) x (1, 1, 0, 12)  - AIC: 708.8861641862068\n",
      "ARIMA (1, 0, 1) x (1, 2, 0, 12)  - AIC: 488.99616342844206\n"
     ]
    },
    {
     "name": "stderr",
     "output_type": "stream",
     "text": [
      "E:\\ProgramData\\Anaconda3\\lib\\site-packages\\statsmodels\\base\\model.py:512: ConvergenceWarning: Maximum Likelihood optimization failed to converge. Check mle_retvals\n",
      "  \"Check mle_retvals\", ConvergenceWarning)\n"
     ]
    },
    {
     "name": "stdout",
     "output_type": "stream",
     "text": [
      "ARIMA (1, 0, 1) x (2, 0, 0, 12)  - AIC: 967.7690555362943\n",
      "ARIMA (1, 0, 1) x (2, 0, 1, 12)  - AIC: 991.5522999582754\n",
      "ARIMA (1, 0, 1) x (2, 1, 0, 12)  - AIC: 711.5056305492141\n",
      "ARIMA (1, 0, 2) x (0, 0, 0, 12)  - AIC: 1019.1717695877003\n"
     ]
    },
    {
     "name": "stderr",
     "output_type": "stream",
     "text": [
      "E:\\ProgramData\\Anaconda3\\lib\\site-packages\\statsmodels\\base\\model.py:512: ConvergenceWarning: Maximum Likelihood optimization failed to converge. Check mle_retvals\n",
      "  \"Check mle_retvals\", ConvergenceWarning)\n"
     ]
    },
    {
     "name": "stdout",
     "output_type": "stream",
     "text": [
      "ARIMA (1, 0, 2) x (0, 0, 1, 12)  - AIC: 996.9754931432788\n",
      "ARIMA (1, 0, 2) x (0, 1, 0, 12)  - AIC: 716.848902286411\n",
      "ARIMA (1, 0, 2) x (0, 2, 0, 12)  - AIC: 502.4662768053918\n",
      "ARIMA (1, 0, 2) x (1, 0, 0, 12)  - AIC: 986.0448315070892\n"
     ]
    },
    {
     "name": "stderr",
     "output_type": "stream",
     "text": [
      "E:\\ProgramData\\Anaconda3\\lib\\site-packages\\statsmodels\\base\\model.py:512: ConvergenceWarning: Maximum Likelihood optimization failed to converge. Check mle_retvals\n",
      "  \"Check mle_retvals\", ConvergenceWarning)\n"
     ]
    },
    {
     "name": "stdout",
     "output_type": "stream",
     "text": [
      "ARIMA (1, 0, 2) x (1, 0, 1, 12)  - AIC: 970.0793246716587\n",
      "ARIMA (1, 0, 2) x (1, 1, 0, 12)  - AIC: 718.3884461712998\n"
     ]
    },
    {
     "name": "stderr",
     "output_type": "stream",
     "text": [
      "E:\\ProgramData\\Anaconda3\\lib\\site-packages\\statsmodels\\base\\model.py:512: ConvergenceWarning: Maximum Likelihood optimization failed to converge. Check mle_retvals\n",
      "  \"Check mle_retvals\", ConvergenceWarning)\n"
     ]
    },
    {
     "name": "stdout",
     "output_type": "stream",
     "text": [
      "ARIMA (1, 0, 2) x (1, 2, 0, 12)  - AIC: 491.7292406593383\n"
     ]
    },
    {
     "name": "stderr",
     "output_type": "stream",
     "text": [
      "E:\\ProgramData\\Anaconda3\\lib\\site-packages\\statsmodels\\base\\model.py:512: ConvergenceWarning: Maximum Likelihood optimization failed to converge. Check mle_retvals\n",
      "  \"Check mle_retvals\", ConvergenceWarning)\n"
     ]
    },
    {
     "name": "stdout",
     "output_type": "stream",
     "text": [
      "ARIMA (1, 0, 2) x (2, 0, 0, 12)  - AIC: 969.4045218900137\n"
     ]
    },
    {
     "name": "stderr",
     "output_type": "stream",
     "text": [
      "E:\\ProgramData\\Anaconda3\\lib\\site-packages\\statsmodels\\base\\model.py:512: ConvergenceWarning: Maximum Likelihood optimization failed to converge. Check mle_retvals\n",
      "  \"Check mle_retvals\", ConvergenceWarning)\n"
     ]
    },
    {
     "name": "stdout",
     "output_type": "stream",
     "text": [
      "ARIMA (1, 0, 2) x (2, 0, 1, 12)  - AIC: 1007.3433010810628\n",
      "ARIMA (1, 0, 2) x (2, 1, 0, 12)  - AIC: 715.3465921011962\n",
      "ARIMA (1, 1, 0) x (0, 0, 0, 12)  - AIC: 999.1166037056389\n",
      "ARIMA (1, 1, 0) x (0, 0, 1, 12)  - AIC: 990.1359335884968\n",
      "ARIMA (1, 1, 0) x (0, 1, 0, 12)  - AIC: 713.1807806099162\n",
      "ARIMA (1, 1, 0) x (0, 2, 0, 12)  - AIC: 492.94482781839946\n",
      "ARIMA (1, 1, 0) x (1, 0, 0, 12)  - AIC: 974.7378628151669\n",
      "ARIMA (1, 1, 0) x (1, 0, 1, 12)  - AIC: 986.0083929431554\n",
      "ARIMA (1, 1, 0) x (1, 1, 0, 12)  - AIC: 711.1441203937902\n",
      "ARIMA (1, 1, 0) x (1, 2, 0, 12)  - AIC: 480.7679710286655\n",
      "ARIMA (1, 1, 0) x (2, 0, 0, 12)  - AIC: 974.0166989372657\n",
      "ARIMA (1, 1, 0) x (2, 0, 1, 12)  - AIC: 987.3370862733162\n",
      "ARIMA (1, 1, 0) x (2, 1, 0, 12)  - AIC: 711.2665291418252\n",
      "ARIMA (1, 1, 1) x (0, 0, 0, 12)  - AIC: 994.744779890555\n",
      "ARIMA (1, 1, 1) x (0, 0, 1, 12)  - AIC: 987.2777365855328\n",
      "ARIMA (1, 1, 1) x (0, 1, 0, 12)  - AIC: 710.7930830536797\n",
      "ARIMA (1, 1, 1) x (0, 2, 0, 12)  - AIC: 484.60173668853037\n",
      "ARIMA (1, 1, 1) x (1, 0, 0, 12)  - AIC: 971.0228750024702\n",
      "ARIMA (1, 1, 1) x (1, 0, 1, 12)  - AIC: 984.0314159838183\n",
      "ARIMA (1, 1, 1) x (1, 1, 0, 12)  - AIC: 708.4278175033135\n",
      "ARIMA (1, 1, 1) x (1, 2, 0, 12)  - AIC: 478.80807562253887\n",
      "ARIMA (1, 1, 1) x (2, 0, 0, 12)  - AIC: 983.7594109907781\n"
     ]
    },
    {
     "name": "stderr",
     "output_type": "stream",
     "text": [
      "E:\\ProgramData\\Anaconda3\\lib\\site-packages\\statsmodels\\base\\model.py:512: ConvergenceWarning: Maximum Likelihood optimization failed to converge. Check mle_retvals\n",
      "  \"Check mle_retvals\", ConvergenceWarning)\n"
     ]
    },
    {
     "name": "stdout",
     "output_type": "stream",
     "text": [
      "ARIMA (1, 1, 1) x (2, 0, 1, 12)  - AIC: 972.8104313309503\n",
      "ARIMA (1, 1, 1) x (2, 1, 0, 12)  - AIC: 708.9846472774417\n",
      "ARIMA (1, 1, 2) x (0, 0, 0, 12)  - AIC: 996.508469235073\n",
      "ARIMA (1, 1, 2) x (0, 0, 1, 12)  - AIC: 988.9127946685834\n",
      "ARIMA (1, 1, 2) x (0, 1, 0, 12)  - AIC: 713.0218456618558\n",
      "ARIMA (1, 1, 2) x (0, 2, 0, 12)  - AIC: 486.6771809365164\n",
      "ARIMA (1, 1, 2) x (1, 0, 0, 12)  - AIC: 972.3977868867331\n",
      "ARIMA (1, 1, 2) x (1, 0, 1, 12)  - AIC: 985.6079243538517\n",
      "ARIMA (1, 1, 2) x (1, 1, 0, 12)  - AIC: 710.5154914867725\n",
      "ARIMA (1, 1, 2) x (1, 2, 0, 12)  - AIC: 472.7377457360566\n",
      "ARIMA (1, 1, 2) x (2, 0, 0, 12)  - AIC: 969.3715113531794\n"
     ]
    },
    {
     "name": "stderr",
     "output_type": "stream",
     "text": [
      "E:\\ProgramData\\Anaconda3\\lib\\site-packages\\statsmodels\\base\\model.py:512: ConvergenceWarning: Maximum Likelihood optimization failed to converge. Check mle_retvals\n",
      "  \"Check mle_retvals\", ConvergenceWarning)\n"
     ]
    },
    {
     "name": "stdout",
     "output_type": "stream",
     "text": [
      "ARIMA (1, 1, 2) x (2, 0, 1, 12)  - AIC: 980.8213699950585\n",
      "ARIMA (1, 1, 2) x (2, 1, 0, 12)  - AIC: 710.72241986703\n",
      "ARIMA (1, 2, 0) x (0, 0, 0, 12)  - AIC: 1012.9597085181143\n",
      "ARIMA (1, 2, 0) x (0, 0, 1, 12)  - AIC: 1003.6545551187131\n",
      "ARIMA (1, 2, 0) x (0, 1, 0, 12)  - AIC: 716.8567528573014\n",
      "ARIMA (1, 2, 0) x (0, 2, 0, 12)  - AIC: 483.54076733719745\n",
      "ARIMA (1, 2, 0) x (1, 0, 0, 12)  - AIC: 996.8249898608367\n",
      "ARIMA (1, 2, 0) x (1, 0, 1, 12)  - AIC: 998.2655978036026\n",
      "ARIMA (1, 2, 0) x (1, 1, 0, 12)  - AIC: 715.6089894970382\n",
      "ARIMA (1, 2, 0) x (1, 2, 0, 12)  - AIC: 472.987208264968\n",
      "ARIMA (1, 2, 0) x (2, 0, 0, 12)  - AIC: 982.9303384344552\n",
      "ARIMA (1, 2, 0) x (2, 0, 1, 12)  - AIC: 999.8994281950797\n",
      "ARIMA (1, 2, 0) x (2, 1, 0, 12)  - AIC: 716.4975643377259\n",
      "ARIMA (1, 2, 1) x (0, 0, 0, 12)  - AIC: 983.4961032569665\n",
      "ARIMA (1, 2, 1) x (0, 0, 1, 12)  - AIC: 970.9945271591847\n",
      "ARIMA (1, 2, 1) x (0, 1, 0, 12)  - AIC: 694.3623256313169\n",
      "ARIMA (1, 2, 1) x (0, 2, 0, 12)  - AIC: 473.5554450456527\n",
      "ARIMA (1, 2, 1) x (1, 0, 0, 12)  - AIC: 957.5158692384464\n",
      "ARIMA (1, 2, 1) x (1, 0, 1, 12)  - AIC: 980.0275806537312\n",
      "ARIMA (1, 2, 1) x (1, 1, 0, 12)  - AIC: 692.1724040452176\n",
      "ARIMA (1, 2, 1) x (1, 2, 0, 12)  - AIC: 467.0759719587758\n",
      "ARIMA (1, 2, 1) x (2, 0, 0, 12)  - AIC: 957.3971661354403\n",
      "ARIMA (1, 2, 1) x (2, 0, 1, 12)  - AIC: 981.752825813328\n",
      "ARIMA (1, 2, 1) x (2, 1, 0, 12)  - AIC: 694.6085912428916\n",
      "ARIMA (1, 2, 2) x (0, 0, 0, 12)  - AIC: 984.9819461238797\n"
     ]
    },
    {
     "name": "stderr",
     "output_type": "stream",
     "text": [
      "E:\\ProgramData\\Anaconda3\\lib\\site-packages\\statsmodels\\base\\model.py:512: ConvergenceWarning: Maximum Likelihood optimization failed to converge. Check mle_retvals\n",
      "  \"Check mle_retvals\", ConvergenceWarning)\n"
     ]
    },
    {
     "name": "stdout",
     "output_type": "stream",
     "text": [
      "ARIMA (1, 2, 2) x (0, 0, 1, 12)  - AIC: 966.4825616626338\n",
      "ARIMA (1, 2, 2) x (0, 1, 0, 12)  - AIC: 694.5276990275847\n",
      "ARIMA (1, 2, 2) x (0, 2, 0, 12)  - AIC: 476.7578089668702\n",
      "ARIMA (1, 2, 2) x (1, 0, 0, 12)  - AIC: 964.5477903112425\n"
     ]
    },
    {
     "name": "stderr",
     "output_type": "stream",
     "text": [
      "E:\\ProgramData\\Anaconda3\\lib\\site-packages\\statsmodels\\base\\model.py:512: ConvergenceWarning: Maximum Likelihood optimization failed to converge. Check mle_retvals\n",
      "  \"Check mle_retvals\", ConvergenceWarning)\n"
     ]
    },
    {
     "name": "stdout",
     "output_type": "stream",
     "text": [
      "ARIMA (1, 2, 2) x (1, 0, 1, 12)  - AIC: 957.0498414296287\n",
      "ARIMA (1, 2, 2) x (1, 1, 0, 12)  - AIC: 696.3624799388803\n"
     ]
    },
    {
     "name": "stderr",
     "output_type": "stream",
     "text": [
      "E:\\ProgramData\\Anaconda3\\lib\\site-packages\\statsmodels\\base\\model.py:512: ConvergenceWarning: Maximum Likelihood optimization failed to converge. Check mle_retvals\n",
      "  \"Check mle_retvals\", ConvergenceWarning)\n"
     ]
    },
    {
     "name": "stdout",
     "output_type": "stream",
     "text": [
      "ARIMA (1, 2, 2) x (1, 2, 0, 12)  - AIC: 460.43095979443626\n",
      "ARIMA (1, 2, 2) x (2, 0, 0, 12)  - AIC: 979.0897676697438\n",
      "ARIMA (1, 2, 2) x (2, 0, 1, 12)  - AIC: 980.8825561397218\n",
      "ARIMA (1, 2, 2) x (2, 1, 0, 12)  - AIC: 697.5081129854158\n",
      "ARIMA (2, 0, 0) x (0, 0, 0, 12)  - AIC: 1022.6194463277445\n",
      "ARIMA (2, 0, 0) x (0, 0, 1, 12)  - AIC: 1010.9239988200052\n",
      "ARIMA (2, 0, 0) x (0, 1, 0, 12)  - AIC: 714.5665834215898\n",
      "ARIMA (2, 0, 0) x (0, 2, 0, 12)  - AIC: 501.23776659221915\n",
      "ARIMA (2, 0, 0) x (1, 0, 0, 12)  - AIC: 979.0895437342241\n"
     ]
    },
    {
     "name": "stderr",
     "output_type": "stream",
     "text": [
      "E:\\ProgramData\\Anaconda3\\lib\\site-packages\\statsmodels\\base\\model.py:512: ConvergenceWarning: Maximum Likelihood optimization failed to converge. Check mle_retvals\n",
      "  \"Check mle_retvals\", ConvergenceWarning)\n"
     ]
    },
    {
     "name": "stdout",
     "output_type": "stream",
     "text": [
      "ARIMA (2, 0, 0) x (1, 0, 1, 12)  - AIC: 977.254352334594\n",
      "ARIMA (2, 0, 0) x (1, 1, 0, 12)  - AIC: 715.975602411865\n",
      "ARIMA (2, 0, 0) x (1, 2, 0, 12)  - AIC: 493.07998001951375\n",
      "ARIMA (2, 0, 0) x (2, 0, 0, 12)  - AIC: 977.0384634667196\n"
     ]
    },
    {
     "name": "stderr",
     "output_type": "stream",
     "text": [
      "E:\\ProgramData\\Anaconda3\\lib\\site-packages\\statsmodels\\base\\model.py:512: ConvergenceWarning: Maximum Likelihood optimization failed to converge. Check mle_retvals\n",
      "  \"Check mle_retvals\", ConvergenceWarning)\n"
     ]
    },
    {
     "name": "stdout",
     "output_type": "stream",
     "text": [
      "ARIMA (2, 0, 0) x (2, 0, 1, 12)  - AIC: 980.6100678878736\n",
      "ARIMA (2, 0, 0) x (2, 1, 0, 12)  - AIC: 712.9258249332377\n",
      "ARIMA (2, 0, 1) x (0, 0, 0, 12)  - AIC: 1018.040387153305\n"
     ]
    },
    {
     "name": "stderr",
     "output_type": "stream",
     "text": [
      "E:\\ProgramData\\Anaconda3\\lib\\site-packages\\statsmodels\\base\\model.py:512: ConvergenceWarning: Maximum Likelihood optimization failed to converge. Check mle_retvals\n",
      "  \"Check mle_retvals\", ConvergenceWarning)\n"
     ]
    },
    {
     "name": "stdout",
     "output_type": "stream",
     "text": [
      "ARIMA (2, 0, 1) x (0, 0, 1, 12)  - AIC: 996.8134822702591\n"
     ]
    },
    {
     "name": "stderr",
     "output_type": "stream",
     "text": [
      "E:\\ProgramData\\Anaconda3\\lib\\site-packages\\statsmodels\\base\\model.py:512: ConvergenceWarning: Maximum Likelihood optimization failed to converge. Check mle_retvals\n",
      "  \"Check mle_retvals\", ConvergenceWarning)\n"
     ]
    },
    {
     "name": "stdout",
     "output_type": "stream",
     "text": [
      "ARIMA (2, 0, 1) x (0, 1, 0, 12)  - AIC: 713.5116179528112\n",
      "ARIMA (2, 0, 1) x (0, 2, 0, 12)  - AIC: 502.6138722411996\n"
     ]
    },
    {
     "name": "stderr",
     "output_type": "stream",
     "text": [
      "E:\\ProgramData\\Anaconda3\\lib\\site-packages\\statsmodels\\base\\model.py:512: ConvergenceWarning: Maximum Likelihood optimization failed to converge. Check mle_retvals\n",
      "  \"Check mle_retvals\", ConvergenceWarning)\n"
     ]
    },
    {
     "name": "stdout",
     "output_type": "stream",
     "text": [
      "ARIMA (2, 0, 1) x (1, 0, 0, 12)  - AIC: 986.3689851309932\n",
      "ARIMA (2, 0, 1) x (1, 0, 1, 12)  - AIC: 992.6891701002093\n"
     ]
    },
    {
     "name": "stderr",
     "output_type": "stream",
     "text": [
      "E:\\ProgramData\\Anaconda3\\lib\\site-packages\\statsmodels\\base\\model.py:512: ConvergenceWarning: Maximum Likelihood optimization failed to converge. Check mle_retvals\n",
      "  \"Check mle_retvals\", ConvergenceWarning)\n"
     ]
    },
    {
     "name": "stdout",
     "output_type": "stream",
     "text": [
      "ARIMA (2, 0, 1) x (1, 1, 0, 12)  - AIC: 710.9342440943686\n",
      "ARIMA (2, 0, 1) x (1, 2, 0, 12)  - AIC: 495.1300011961217\n"
     ]
    },
    {
     "name": "stderr",
     "output_type": "stream",
     "text": [
      "E:\\ProgramData\\Anaconda3\\lib\\site-packages\\statsmodels\\base\\model.py:512: ConvergenceWarning: Maximum Likelihood optimization failed to converge. Check mle_retvals\n",
      "  \"Check mle_retvals\", ConvergenceWarning)\n"
     ]
    },
    {
     "name": "stdout",
     "output_type": "stream",
     "text": [
      "ARIMA (2, 0, 1) x (2, 0, 0, 12)  - AIC: 972.5064910387204\n"
     ]
    },
    {
     "name": "stderr",
     "output_type": "stream",
     "text": [
      "E:\\ProgramData\\Anaconda3\\lib\\site-packages\\statsmodels\\base\\model.py:512: ConvergenceWarning: Maximum Likelihood optimization failed to converge. Check mle_retvals\n",
      "  \"Check mle_retvals\", ConvergenceWarning)\n"
     ]
    },
    {
     "name": "stdout",
     "output_type": "stream",
     "text": [
      "ARIMA (2, 0, 1) x (2, 0, 1, 12)  - AIC: 999.0893472146668\n",
      "ARIMA (2, 0, 1) x (2, 1, 0, 12)  - AIC: 714.7188209794263\n",
      "ARIMA (2, 0, 2) x (0, 0, 0, 12)  - AIC: 1020.706082837359\n",
      "ARIMA (2, 0, 2) x (0, 0, 1, 12)  - AIC: 1010.7645502281152\n",
      "ARIMA (2, 0, 2) x (0, 1, 0, 12)  - AIC: 718.8453743049112\n",
      "ARIMA (2, 0, 2) x (0, 2, 0, 12)  - AIC: 502.29091000274775\n"
     ]
    },
    {
     "name": "stderr",
     "output_type": "stream",
     "text": [
      "E:\\ProgramData\\Anaconda3\\lib\\site-packages\\statsmodels\\base\\model.py:512: ConvergenceWarning: Maximum Likelihood optimization failed to converge. Check mle_retvals\n",
      "  \"Check mle_retvals\", ConvergenceWarning)\n"
     ]
    },
    {
     "name": "stdout",
     "output_type": "stream",
     "text": [
      "ARIMA (2, 0, 2) x (1, 0, 0, 12)  - AIC: 975.3643845100119\n"
     ]
    },
    {
     "name": "stderr",
     "output_type": "stream",
     "text": [
      "E:\\ProgramData\\Anaconda3\\lib\\site-packages\\statsmodels\\base\\model.py:512: ConvergenceWarning: Maximum Likelihood optimization failed to converge. Check mle_retvals\n",
      "  \"Check mle_retvals\", ConvergenceWarning)\n"
     ]
    },
    {
     "name": "stdout",
     "output_type": "stream",
     "text": [
      "ARIMA (2, 0, 2) x (1, 0, 1, 12)  - AIC: 991.7357718224114\n"
     ]
    },
    {
     "name": "stderr",
     "output_type": "stream",
     "text": [
      "E:\\ProgramData\\Anaconda3\\lib\\site-packages\\statsmodels\\base\\model.py:512: ConvergenceWarning: Maximum Likelihood optimization failed to converge. Check mle_retvals\n",
      "  \"Check mle_retvals\", ConvergenceWarning)\n"
     ]
    },
    {
     "name": "stdout",
     "output_type": "stream",
     "text": [
      "ARIMA (2, 0, 2) x (1, 1, 0, 12)  - AIC: 715.0115133905358\n"
     ]
    },
    {
     "name": "stderr",
     "output_type": "stream",
     "text": [
      "E:\\ProgramData\\Anaconda3\\lib\\site-packages\\statsmodels\\base\\model.py:512: ConvergenceWarning: Maximum Likelihood optimization failed to converge. Check mle_retvals\n",
      "  \"Check mle_retvals\", ConvergenceWarning)\n"
     ]
    },
    {
     "name": "stdout",
     "output_type": "stream",
     "text": [
      "ARIMA (2, 0, 2) x (1, 2, 0, 12)  - AIC: 493.11182692666637\n"
     ]
    },
    {
     "name": "stderr",
     "output_type": "stream",
     "text": [
      "E:\\ProgramData\\Anaconda3\\lib\\site-packages\\statsmodels\\base\\model.py:512: ConvergenceWarning: Maximum Likelihood optimization failed to converge. Check mle_retvals\n",
      "  \"Check mle_retvals\", ConvergenceWarning)\n"
     ]
    },
    {
     "name": "stdout",
     "output_type": "stream",
     "text": [
      "ARIMA (2, 0, 2) x (2, 0, 1, 12)  - AIC: 1008.9294506814275\n",
      "ARIMA (2, 0, 2) x (2, 1, 0, 12)  - AIC: 717.3187936709493\n",
      "ARIMA (2, 1, 0) x (0, 0, 0, 12)  - AIC: 996.3001515631211\n",
      "ARIMA (2, 1, 0) x (0, 0, 1, 12)  - AIC: 987.1934312150734\n",
      "ARIMA (2, 1, 0) x (0, 1, 0, 12)  - AIC: 715.3780616351956\n",
      "ARIMA (2, 1, 0) x (0, 2, 0, 12)  - AIC: 494.20694466093\n",
      "ARIMA (2, 1, 0) x (1, 0, 0, 12)  - AIC: 972.9686577183115\n",
      "ARIMA (2, 1, 0) x (1, 0, 1, 12)  - AIC: 983.071458633432\n",
      "ARIMA (2, 1, 0) x (1, 1, 0, 12)  - AIC: 712.3983539695885\n",
      "ARIMA (2, 1, 0) x (1, 2, 0, 12)  - AIC: 480.87875123012793\n",
      "ARIMA (2, 1, 0) x (2, 0, 0, 12)  - AIC: 982.7111557112491\n",
      "ARIMA (2, 1, 0) x (2, 0, 1, 12)  - AIC: 984.1053144097209\n",
      "ARIMA (2, 1, 0) x (2, 1, 0, 12)  - AIC: 712.427075750988\n",
      "ARIMA (2, 1, 1) x (0, 0, 0, 12)  - AIC: 998.31303058294\n",
      "ARIMA (2, 1, 1) x (0, 0, 1, 12)  - AIC: 989.8163333860149\n",
      "ARIMA (2, 1, 1) x (0, 1, 0, 12)  - AIC: 712.5526169602571\n",
      "ARIMA (2, 1, 1) x (0, 2, 0, 12)  - AIC: 486.58470827563895\n",
      "ARIMA (2, 1, 1) x (1, 0, 0, 12)  - AIC: 982.879332912717\n",
      "ARIMA (2, 1, 1) x (1, 0, 1, 12)  - AIC: 984.4150465415172\n",
      "ARIMA (2, 1, 1) x (1, 1, 0, 12)  - AIC: 710.3345211237333\n",
      "ARIMA (2, 1, 1) x (1, 2, 0, 12)  - AIC: 480.7942951704302\n",
      "ARIMA (2, 1, 1) x (2, 0, 0, 12)  - AIC: 984.110250982272\n"
     ]
    },
    {
     "name": "stderr",
     "output_type": "stream",
     "text": [
      "E:\\ProgramData\\Anaconda3\\lib\\site-packages\\statsmodels\\base\\model.py:512: ConvergenceWarning: Maximum Likelihood optimization failed to converge. Check mle_retvals\n",
      "  \"Check mle_retvals\", ConvergenceWarning)\n"
     ]
    },
    {
     "name": "stdout",
     "output_type": "stream",
     "text": [
      "ARIMA (2, 1, 1) x (2, 0, 1, 12)  - AIC: 974.833778641529\n",
      "ARIMA (2, 1, 1) x (2, 1, 0, 12)  - AIC: 710.694053685278\n",
      "ARIMA (2, 1, 2) x (0, 0, 0, 12)  - AIC: 997.277223311669\n",
      "ARIMA (2, 1, 2) x (0, 0, 1, 12)  - AIC: 990.6946842578074\n",
      "ARIMA (2, 1, 2) x (0, 1, 0, 12)  - AIC: 714.9369085429171\n",
      "ARIMA (2, 1, 2) x (0, 2, 0, 12)  - AIC: 488.2094575336405\n"
     ]
    },
    {
     "name": "stderr",
     "output_type": "stream",
     "text": [
      "E:\\ProgramData\\Anaconda3\\lib\\site-packages\\statsmodels\\base\\model.py:512: ConvergenceWarning: Maximum Likelihood optimization failed to converge. Check mle_retvals\n",
      "  \"Check mle_retvals\", ConvergenceWarning)\n"
     ]
    },
    {
     "name": "stdout",
     "output_type": "stream",
     "text": [
      "ARIMA (2, 1, 2) x (1, 0, 0, 12)  - AIC: 976.0150886680418\n",
      "ARIMA (2, 1, 2) x (1, 0, 1, 12)  - AIC: 987.2538016155958\n",
      "ARIMA (2, 1, 2) x (1, 1, 0, 12)  - AIC: 711.9310277259694\n",
      "ARIMA (2, 1, 2) x (1, 2, 0, 12)  - AIC: 474.0062160224845\n"
     ]
    },
    {
     "name": "stderr",
     "output_type": "stream",
     "text": [
      "E:\\ProgramData\\Anaconda3\\lib\\site-packages\\statsmodels\\base\\model.py:512: ConvergenceWarning: Maximum Likelihood optimization failed to converge. Check mle_retvals\n",
      "  \"Check mle_retvals\", ConvergenceWarning)\n"
     ]
    },
    {
     "name": "stdout",
     "output_type": "stream",
     "text": [
      "ARIMA (2, 1, 2) x (2, 0, 0, 12)  - AIC: 970.4162499182905\n"
     ]
    },
    {
     "name": "stderr",
     "output_type": "stream",
     "text": [
      "E:\\ProgramData\\Anaconda3\\lib\\site-packages\\statsmodels\\base\\model.py:512: ConvergenceWarning: Maximum Likelihood optimization failed to converge. Check mle_retvals\n",
      "  \"Check mle_retvals\", ConvergenceWarning)\n"
     ]
    },
    {
     "name": "stdout",
     "output_type": "stream",
     "text": [
      "ARIMA (2, 1, 2) x (2, 0, 1, 12)  - AIC: 975.4532515995967\n",
      "ARIMA (2, 1, 2) x (2, 1, 0, 12)  - AIC: 710.8214928745565\n",
      "ARIMA (2, 2, 0) x (0, 0, 0, 12)  - AIC: 995.9410841743124\n",
      "ARIMA (2, 2, 0) x (0, 0, 1, 12)  - AIC: 987.0116071264538\n",
      "ARIMA (2, 2, 0) x (0, 1, 0, 12)  - AIC: 711.8024299912165\n",
      "ARIMA (2, 2, 0) x (0, 2, 0, 12)  - AIC: 481.69866985628113\n",
      "ARIMA (2, 2, 0) x (1, 0, 0, 12)  - AIC: 981.0483035271841\n",
      "ARIMA (2, 2, 0) x (1, 0, 1, 12)  - AIC: 982.5941350810882\n",
      "ARIMA (2, 2, 0) x (1, 1, 0, 12)  - AIC: 710.0466742717316\n",
      "ARIMA (2, 2, 0) x (1, 2, 0, 12)  - AIC: 471.3285347183128\n",
      "ARIMA (2, 2, 0) x (2, 0, 0, 12)  - AIC: 982.3000631733672\n",
      "ARIMA (2, 2, 0) x (2, 0, 1, 12)  - AIC: 983.9190836375062\n",
      "ARIMA (2, 2, 0) x (2, 1, 0, 12)  - AIC: 711.18806345465\n",
      "ARIMA (2, 2, 1) x (0, 0, 0, 12)  - AIC: 983.9651557317022\n"
     ]
    },
    {
     "name": "stderr",
     "output_type": "stream",
     "text": [
      "E:\\ProgramData\\Anaconda3\\lib\\site-packages\\statsmodels\\base\\model.py:512: ConvergenceWarning: Maximum Likelihood optimization failed to converge. Check mle_retvals\n",
      "  \"Check mle_retvals\", ConvergenceWarning)\n"
     ]
    },
    {
     "name": "stdout",
     "output_type": "stream",
     "text": [
      "ARIMA (2, 2, 1) x (0, 0, 1, 12)  - AIC: 968.5208759806349\n",
      "ARIMA (2, 2, 1) x (0, 1, 0, 12)  - AIC: 695.9758736107738\n",
      "ARIMA (2, 2, 1) x (0, 2, 0, 12)  - AIC: 475.43852261079604\n",
      "ARIMA (2, 2, 1) x (1, 0, 0, 12)  - AIC: 956.3395263734784\n"
     ]
    },
    {
     "name": "stderr",
     "output_type": "stream",
     "text": [
      "E:\\ProgramData\\Anaconda3\\lib\\site-packages\\statsmodels\\base\\model.py:512: ConvergenceWarning: Maximum Likelihood optimization failed to converge. Check mle_retvals\n",
      "  \"Check mle_retvals\", ConvergenceWarning)\n"
     ]
    },
    {
     "name": "stdout",
     "output_type": "stream",
     "text": [
      "ARIMA (2, 2, 1) x (1, 0, 1, 12)  - AIC: 957.6458555783154\n",
      "ARIMA (2, 2, 1) x (1, 1, 0, 12)  - AIC: 694.8621053833054\n",
      "ARIMA (2, 2, 1) x (1, 2, 0, 12)  - AIC: 458.4126743035242\n",
      "ARIMA (2, 2, 1) x (2, 0, 0, 12)  - AIC: 956.5981040299794\n",
      "ARIMA (2, 2, 1) x (2, 0, 1, 12)  - AIC: 978.435257101408\n",
      "ARIMA (2, 2, 1) x (2, 1, 0, 12)  - AIC: 695.6670902417617\n",
      "ARIMA (2, 2, 2) x (0, 0, 0, 12)  - AIC: 984.8312848393256\n"
     ]
    },
    {
     "name": "stderr",
     "output_type": "stream",
     "text": [
      "E:\\ProgramData\\Anaconda3\\lib\\site-packages\\statsmodels\\base\\model.py:512: ConvergenceWarning: Maximum Likelihood optimization failed to converge. Check mle_retvals\n",
      "  \"Check mle_retvals\", ConvergenceWarning)\n"
     ]
    },
    {
     "name": "stdout",
     "output_type": "stream",
     "text": [
      "ARIMA (2, 2, 2) x (0, 0, 1, 12)  - AIC: 968.4141894407376\n",
      "ARIMA (2, 2, 2) x (0, 1, 0, 12)  - AIC: 697.5732454926762\n",
      "ARIMA (2, 2, 2) x (0, 2, 0, 12)  - AIC: 478.1593087294559\n",
      "ARIMA (2, 2, 2) x (1, 0, 0, 12)  - AIC: 974.7846634684489\n",
      "ARIMA (2, 2, 2) x (1, 0, 1, 12)  - AIC: 976.6087297566822\n",
      "ARIMA (2, 2, 2) x (1, 1, 0, 12)  - AIC: 696.106378630499\n"
     ]
    },
    {
     "name": "stderr",
     "output_type": "stream",
     "text": [
      "E:\\ProgramData\\Anaconda3\\lib\\site-packages\\statsmodels\\base\\model.py:512: ConvergenceWarning: Maximum Likelihood optimization failed to converge. Check mle_retvals\n",
      "  \"Check mle_retvals\", ConvergenceWarning)\n"
     ]
    },
    {
     "name": "stdout",
     "output_type": "stream",
     "text": [
      "ARIMA (2, 2, 2) x (1, 2, 0, 12)  - AIC: 459.9625730630823\n",
      "ARIMA (2, 2, 2) x (2, 0, 0, 12)  - AIC: 976.4879259542083\n",
      "ARIMA (2, 2, 2) x (2, 0, 1, 12)  - AIC: 978.1607859189734\n",
      "ARIMA (2, 2, 2) x (2, 1, 0, 12)  - AIC: 695.3523183663601\n"
     ]
    },
    {
     "name": "stderr",
     "output_type": "stream",
     "text": [
      "E:\\ProgramData\\Anaconda3\\lib\\site-packages\\statsmodels\\base\\model.py:512: ConvergenceWarning: Maximum Likelihood optimization failed to converge. Check mle_retvals\n",
      "  \"Check mle_retvals\", ConvergenceWarning)\n"
     ]
    }
   ],
   "source": [
    "#from pylab import rcParams\n",
    "for param in pdq:\n",
    "    for param_seasonal in seasonal_pdq:\n",
    "        try:\n",
    "            \n",
    "            mod = sm.tsa.statespace.SARIMAX(y, order=param,\n",
    "            seasonal_order=param_seasonal)\n",
    "            results = mod.fit()\n",
    "            print('ARIMA',param,'x',param_seasonal,' - AIC:',results.aic)\n",
    "        except:\n",
    "            continue"
   ]
  },
  {
   "cell_type": "code",
   "execution_count": 27,
   "metadata": {},
   "outputs": [
    {
     "data": {
      "text/plain": [
       "490.1871497788143"
      ]
     },
     "execution_count": 27,
     "metadata": {},
     "output_type": "execute_result"
    }
   ],
   "source": [
    "mod = sm.tsa.statespace.SARIMAX(y,\n",
    "                                order=(0,0,0),\n",
    "                                seasonal_order=(1, 2, 0, 12))\n",
    "results = mod.fit()\n",
    "results.aic"
   ]
  },
  {
   "cell_type": "code",
   "execution_count": 28,
   "metadata": {
    "scrolled": true
   },
   "outputs": [
    {
     "data": {
      "image/png": "[encoded data removed]",
      "text/plain": [
       "<Figure size 720x432 with 1 Axes>"
      ]
     },
     "metadata": {
      "needs_background": "light"
     },
     "output_type": "display_data"
    }
   ],
   "source": [
    "pred = results.get_prediction(start=pd.to_datetime('2017-01-01'))\n",
    "plt.figure(figsize=(10,6))\n",
    "ax = y['2014':].plot(label='observed')\n",
    "pred.predicted_mean.plot(ax=ax, label='One-step ahead Forecast')\n",
    "ax.set_xlabel('Date')\n",
    "ax.set_ylabel('Furniture Sales')\n",
    "plt.legend()\n",
    "plt.show()"
   ]
  },
  {
   "cell_type": "code",
   "execution_count": 29,
   "metadata": {
    "scrolled": false
   },
   "outputs": [
    {
     "name": "stdout",
     "output_type": "stream",
     "text": [
      "5063.380497937717\n"
     ]
    }
   ],
   "source": [
    "Y_pred = pred.predicted_mean\n",
    "Y_test = y['2017-01-01':]\n",
    "\n",
    "from sklearn.metrics import mean_squared_error\n",
    "from math import sqrt\n",
    "rms = sqrt(mean_squared_error(Y_test,Y_pred))\n",
    "print(rms)\n"
   ]
  },
  {
   "cell_type": "code",
   "execution_count": 30,
   "metadata": {},
   "outputs": [
    {
     "data": {
      "image/png": "[encoded data removed]",
      "text/plain": [
       "<Figure size 720x432 with 1 Axes>"
      ]
     },
     "metadata": {
      "needs_background": "light"
     },
     "output_type": "display_data"
    }
   ],
   "source": [
    "pred_uc = results.get_forecast(steps=24)\n",
    "plt.figure(figsize=(10,6))\n",
    "ax = y['2014':].plot(label='observed')\n",
    "pred_uc.predicted_mean.plot(ax=ax, label='One-step ahead Forecast')\n",
    "ax.set_xlabel('Date')\n",
    "ax.set_ylabel('Furniture Sales')\n",
    "plt.legend()\n",
    "plt.show()"
   ]
  },
  {
   "cell_type": "code",
   "execution_count": 31,
   "metadata": {},
   "outputs": [
    {
     "data": {
      "text/plain": [
       "2018-01-01     3359.577555\n",
       "2018-02-01     8980.201183\n",
       "2018-03-01     9835.550044\n",
       "2018-04-01     7567.430114\n",
       "2018-05-01    20298.307972\n",
       "2018-06-01    24722.860223\n",
       "2018-07-01    10807.414875\n",
       "2018-08-01    18356.660988\n",
       "2018-09-01    30495.220455\n",
       "2018-10-01    27985.028939\n",
       "2018-11-01    40648.615976\n",
       "2018-12-01    33392.972930\n",
       "2019-01-01     1118.936482\n",
       "2019-02-01    11412.169741\n",
       "2019-03-01     8450.768220\n",
       "2019-04-01     5050.408462\n",
       "2019-05-01    23060.865879\n",
       "2019-06-01    30523.203633\n",
       "2019-07-01     9705.678849\n",
       "2019-08-01    21288.318228\n",
       "2019-09-01    32076.990558\n",
       "2019-10-01    35590.312316\n",
       "2019-11-01    44887.243788\n",
       "2019-12-01    32586.914100\n",
       "Freq: MS, dtype: float64"
      ]
     },
     "execution_count": 31,
     "metadata": {},
     "output_type": "execute_result"
    }
   ],
   "source": [
    "pred_uc.predicted_mean"
   ]
  },
  {
   "cell_type": "code",
   "execution_count": 32,
   "metadata": {},
   "outputs": [
    {
     "data": {
      "image/png": "[encoded data removed]",
      "text/plain": [
       "<Figure size 432x288 with 1 Axes>"
      ]
     },
     "metadata": {
      "needs_background": "light"
     },
     "output_type": "display_data"
    }
   ],
   "source": [
    "import statsmodels\n",
    "a=statsmodels.graphics.tsaplots.plot_acf(y)\n"
   ]
  },
  {
   "cell_type": "code",
   "execution_count": 33,
   "metadata": {},
   "outputs": [
    {
     "data": {
      "image/png": "[encoded data removed]",
      "text/plain": [
       "<Figure size 432x288 with 1 Axes>"
      ]
     },
     "metadata": {
      "needs_background": "light"
     },
     "output_type": "display_data"
    }
   ],
   "source": [
    "b=statsmodels.graphics.tsaplots.plot_pacf( y)"
   ]
  },
  {
   "cell_type": "code",
   "execution_count": 37,
   "metadata": {},
   "outputs": [
    {
     "name": "stdout",
     "output_type": "stream",
     "text": [
      "SARIMAX: (0, 0, 1) x (0, 0, 0, 12)\n"
     ]
    }
   ],
   "source": [
    "import itertools\n",
    "p = d = q = range(0, 3)\n",
    "pdq = list(itertools.product(p, d, q))\n",
    "seasonal_pdq = [(x[0], x[1], x[2], 12) for x in list(itertools.product(p, d, q))]\n",
    "\n",
    "print('SARIMAX:',pdq[1],'x', seasonal_pdq[0])\n"
   ]
  },
  {
   "cell_type": "code",
   "execution_count": null,
   "metadata": {},
   "outputs": [],
   "source": []
  }
 ],
 "metadata": {
  "kernelspec": {
   "display_name": "Python 3",
   "language": "python",
   "name": "python3"
  },
  "language_info": {
   "codemirror_mode": {
    "name": "ipython",
    "version": 3
   },
   "file_extension": ".py",
   "mimetype": "text/x-python",
   "name": "python",
   "nbconvert_exporter": "python",
   "pygments_lexer": "ipython3",
   "version": "3.7.3"
  }
 },
 "nbformat": 4,
 "nbformat_minor": 2
}
