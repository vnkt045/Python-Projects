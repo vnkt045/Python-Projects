{
 "cells": [
  {
   "cell_type": "markdown",
   "metadata": {},
   "source": [
    "**1. Write a Python program which iterates the integers from 1 to 50. For multiples of 3 print \"Fizz\" instead of the number and for the multiples of 5 print \"Buzz\". For numbers which are multiples of both 3 and 5 print \"FizzBuzz\".**"
   ]
  },
  {
   "cell_type": "code",
   "execution_count": null,
   "metadata": {},
   "outputs": [],
   "source": []
  },
  {
   "cell_type": "markdown",
   "metadata": {},
   "source": [
    "**2. Write a Python program to count the number of even and odd numbers from a tuple of numbers.**\n",
    "<br>\n",
    "numbers=(12,15,3,6,26,33,56,65,78,37,42,99)"
   ]
  },
  {
   "cell_type": "code",
   "execution_count": null,
   "metadata": {},
   "outputs": [],
   "source": []
  },
  {
   "cell_type": "markdown",
   "metadata": {},
   "source": [
    "**3. Take 5 integers from keyboard using a loop and print their average value on the screen.**"
   ]
  },
  {
   "cell_type": "code",
   "execution_count": null,
   "metadata": {},
   "outputs": [],
   "source": []
  },
  {
   "cell_type": "markdown",
   "metadata": {},
   "source": [
    "**4. Following are the tuples of students who have enrolled for two courses. Find out those students who have enrolled for both the courses.**\n",
    "<br>\n",
    "course_A=('Anuj', 'Katrina', 'John', 'Jessica', 'Michael', 'Rahul', 'Khushboo')\n",
    "<br>\n",
    "course_B=('Bhavana', 'Katrina','Michael', 'Robert', 'Khushboo', 'Sachin' )"
   ]
  },
  {
   "cell_type": "code",
   "execution_count": null,
   "metadata": {},
   "outputs": [],
   "source": []
  },
  {
   "cell_type": "markdown",
   "metadata": {},
   "source": [
    "**5. Write a Python function to create and print a list where the values are square of numbers between 1 and 25 (both included).**"
   ]
  },
  {
   "cell_type": "code",
   "execution_count": null,
   "metadata": {},
   "outputs": [],
   "source": []
  },
  {
   "cell_type": "markdown",
   "metadata": {},
   "source": [
    "**6. Write a Pandas program to create a Series out of the given list and sort it in the descending order.**\n",
    "<br>\n",
    "data_list=['1000', 'spyder', 'python', 'jupyter', '400.78', 'anaconda']"
   ]
  },
  {
   "cell_type": "code",
   "execution_count": null,
   "metadata": {},
   "outputs": [],
   "source": []
  },
  {
   "cell_type": "markdown",
   "metadata": {},
   "source": [
    "**7. Create a series out of a range of values from 1 to 10. Ask the user to specify how many observations should be displayed and print that many observations from the series.**\n"
   ]
  },
  {
   "cell_type": "code",
   "execution_count": null,
   "metadata": {},
   "outputs": [],
   "source": []
  },
  {
   "cell_type": "markdown",
   "metadata": {},
   "source": [
    "**8. Write a Pandas program to create the mean and standard deviation of the data of a given Series.**\n",
    "<br>\n",
    "data_list = [1,2,3,4,5,6,7,8,9,5,3]"
   ]
  },
  {
   "cell_type": "code",
   "execution_count": null,
   "metadata": {},
   "outputs": [],
   "source": []
  },
  {
   "cell_type": "markdown",
   "metadata": {},
   "source": [
    "**9. Write a Pandas program to display a summary of the basic information about the DataFrame and its data.**\n",
    "<br>\n",
    "exam_data = {'name': ['Anuj', 'Bhavana', 'Katrina', 'John', 'Jessica', 'Michael', 'Robert', 'Rahul', 'Khushboo', 'Sachin'],\n",
    "'score': [12.5, 9, 16.5, 8, 9, 20, 14.5, 5, 8, 19],\n",
    "'attempts': [1, 3, 2, 3, 2, 3, 1, 1, 2, 1],\n",
    "'qualify': ['yes', 'no', 'yes', 'no', 'no', 'yes', 'yes', 'no', 'no', 'yes']}\n",
    "<br>\n",
    "labels = ['a', 'b', 'c', 'd', 'e', 'f', 'g', 'h', 'i', 'j']\n"
   ]
  },
  {
   "cell_type": "code",
   "execution_count": null,
   "metadata": {},
   "outputs": [],
   "source": []
  },
  {
   "cell_type": "markdown",
   "metadata": {},
   "source": [
    "**10. Select 'name' and 'score' columns in rows 1, 3, 5, 6 from the above data frame.**\n"
   ]
  },
  {
   "cell_type": "code",
   "execution_count": null,
   "metadata": {},
   "outputs": [],
   "source": []
  },
  {
   "cell_type": "markdown",
   "metadata": {},
   "source": [
    "**11. Write a Pandas program to select the rows where the number of attempts in the examination is greater than 2 and still did not qualify.**\n"
   ]
  },
  {
   "cell_type": "code",
   "execution_count": null,
   "metadata": {},
   "outputs": [],
   "source": []
  },
  {
   "cell_type": "markdown",
   "metadata": {},
   "source": [
    "**12. Write a Pandas program to change the score in row 'd' to 11.5.**"
   ]
  },
  {
   "cell_type": "code",
   "execution_count": null,
   "metadata": {},
   "outputs": [],
   "source": []
  },
  {
   "cell_type": "markdown",
   "metadata": {},
   "source": [
    "**13. Write a Pandas program to change the name 'Jessica' to 'Suresh' in name column of the DataFrame.**"
   ]
  },
  {
   "cell_type": "code",
   "execution_count": null,
   "metadata": {},
   "outputs": [],
   "source": []
  },
  {
   "cell_type": "markdown",
   "metadata": {},
   "source": [
    "**14. Write a Pandas program to delete the 'attempts' column from the DataFrame.**"
   ]
  },
  {
   "cell_type": "code",
   "execution_count": null,
   "metadata": {},
   "outputs": [],
   "source": []
  },
  {
   "cell_type": "markdown",
   "metadata": {},
   "source": [
    "**15. Write a Pandas program to rearrange the columns of the dataframe. Follow the order:**\n",
    "<br>\n",
    "Qualify, Name, Score\n"
   ]
  },
  {
   "cell_type": "code",
   "execution_count": null,
   "metadata": {},
   "outputs": [],
   "source": []
  }
 ],
 "metadata": {
  "kernelspec": {
   "display_name": "Python 3",
   "language": "python",
   "name": "python3"
  },
  "language_info": {
   "codemirror_mode": {
    "name": "ipython",
    "version": 3
   },
   "file_extension": ".py",
   "mimetype": "text/x-python",
   "name": "python",
   "nbconvert_exporter": "python",
   "pygments_lexer": "ipython3",
   "version": "3.7.3"
  }
 },
 "nbformat": 4,
 "nbformat_minor": 2
}
